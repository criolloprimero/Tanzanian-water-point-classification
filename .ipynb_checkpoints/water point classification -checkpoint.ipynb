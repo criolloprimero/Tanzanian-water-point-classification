{
 "cells": [
  {
   "cell_type": "markdown",
   "metadata": {
    "toc": true
   },
   "source": [
    "<h1>Table of Contents<span class=\"tocSkip\"></span></h1>\n",
    "<div class=\"toc\"><ul class=\"toc-item\"><li><span><a href=\"#Eda-and-data-discovery\" data-toc-modified-id=\"Eda-and-data-discovery-1\"><span class=\"toc-item-num\">1&nbsp;&nbsp;</span>Eda and data discovery</a></span><ul class=\"toc-item\"><li><ul class=\"toc-item\"><li><span><a href=\"#check-for-large-number-of-NA\" data-toc-modified-id=\"check-for-large-number-of-NA-1.0.1\"><span class=\"toc-item-num\">1.0.1&nbsp;&nbsp;</span>check for large number of NA</a></span></li></ul></li><li><span><a href=\"#checking-for-distributions\" data-toc-modified-id=\"checking-for-distributions-1.1\"><span class=\"toc-item-num\">1.1&nbsp;&nbsp;</span>checking for distributions</a></span><ul class=\"toc-item\"><li><span><a href=\"#by-construction-year\" data-toc-modified-id=\"by-construction-year-1.1.1\"><span class=\"toc-item-num\">1.1.1&nbsp;&nbsp;</span>by construction year</a></span></li><li><span><a href=\"#by-the-funder\" data-toc-modified-id=\"by-the-funder-1.1.2\"><span class=\"toc-item-num\">1.1.2&nbsp;&nbsp;</span>by the funder</a></span></li><li><span><a href=\"#for-loop-of-box-plots\" data-toc-modified-id=\"for-loop-of-box-plots-1.1.3\"><span class=\"toc-item-num\">1.1.3&nbsp;&nbsp;</span>for loop of box plots</a></span></li><li><span><a href=\"#for-loop-of-hist-plots\" data-toc-modified-id=\"for-loop-of-hist-plots-1.1.4\"><span class=\"toc-item-num\">1.1.4&nbsp;&nbsp;</span>for loop of hist plots</a></span></li><li><span><a href=\"#specific-to-year\" data-toc-modified-id=\"specific-to-year-1.1.5\"><span class=\"toc-item-num\">1.1.5&nbsp;&nbsp;</span>specific to year</a></span></li></ul></li></ul></li><li><span><a href=\"#start-modeling\" data-toc-modified-id=\"start-modeling-2\"><span class=\"toc-item-num\">2&nbsp;&nbsp;</span>start modeling</a></span><ul class=\"toc-item\"><li><ul class=\"toc-item\"><li><span><a href=\"#TRANSFORM-DATA\" data-toc-modified-id=\"TRANSFORM-DATA-2.0.1\"><span class=\"toc-item-num\">2.0.1&nbsp;&nbsp;</span>TRANSFORM DATA</a></span></li><li><span><a href=\"#grid-search\" data-toc-modified-id=\"grid-search-2.0.2\"><span class=\"toc-item-num\">2.0.2&nbsp;&nbsp;</span>grid search</a></span></li></ul></li></ul></li></ul></div>"
   ]
  },
  {
   "cell_type": "markdown",
   "metadata": {},
   "source": [
    "# Eda and data discovery"
   ]
  },
  {
   "cell_type": "code",
   "execution_count": 1,
   "metadata": {},
   "outputs": [],
   "source": [
    "\n",
    "import nbimporter\n",
    "from functionForModels import run_model\n",
    "\n",
    "import numpy as np\n",
    "import pandas as pd\n",
    "import matplotlib.pyplot as plt\n",
    "import seaborn as sns\n",
    "\n",
    "from xgboost import XGBClassifier\n",
    "\n",
    "from sklearn.neighbors import KNeighborsClassifier\n",
    "from sklearn import tree\n",
    "from sklearn.linear_model import LogisticRegression\n",
    "from sklearn.model_selection import train_test_split,GridSearchCV,cross_val_score\n",
    "from sklearn.tree import DecisionTreeClassifier\n",
    "from sklearn.ensemble import RandomForestClassifier\n",
    "from sklearn.metrics import accuracy_score, roc_curve, auc\n",
    "from sklearn import metrics\n",
    "from sklearn.metrics import plot_confusion_matrix, classification_report\n",
    "\n",
    "from sklearn.neighbors import KNeighborsClassifier\n",
    "from sklearn.linear_model import LogisticRegression\n",
    "\n",
    "from sklearn.preprocessing import StandardScaler\n"
   ]
  },
  {
   "cell_type": "code",
   "execution_count": 2,
   "metadata": {},
   "outputs": [],
   "source": [
    "df_preds= pd.read_csv('water_data.csv')\n",
    "df_target=pd.read_csv('water_targets.csv')"
   ]
  },
  {
   "cell_type": "code",
   "execution_count": 3,
   "metadata": {},
   "outputs": [
    {
     "data": {
      "text/html": [
       "<div>\n",
       "<style scoped>\n",
       "    .dataframe tbody tr th:only-of-type {\n",
       "        vertical-align: middle;\n",
       "    }\n",
       "\n",
       "    .dataframe tbody tr th {\n",
       "        vertical-align: top;\n",
       "    }\n",
       "\n",
       "    .dataframe thead th {\n",
       "        text-align: right;\n",
       "    }\n",
       "</style>\n",
       "<table border=\"1\" class=\"dataframe\">\n",
       "  <thead>\n",
       "    <tr style=\"text-align: right;\">\n",
       "      <th></th>\n",
       "      <th>id</th>\n",
       "      <th>amount_tsh</th>\n",
       "      <th>gps_height</th>\n",
       "      <th>longitude</th>\n",
       "      <th>latitude</th>\n",
       "      <th>num_private</th>\n",
       "      <th>region_code</th>\n",
       "      <th>district_code</th>\n",
       "      <th>population</th>\n",
       "      <th>construction_year</th>\n",
       "    </tr>\n",
       "  </thead>\n",
       "  <tbody>\n",
       "    <tr>\n",
       "      <th>count</th>\n",
       "      <td>59400.000000</td>\n",
       "      <td>59400.000000</td>\n",
       "      <td>59400.000000</td>\n",
       "      <td>59400.000000</td>\n",
       "      <td>5.940000e+04</td>\n",
       "      <td>59400.000000</td>\n",
       "      <td>59400.000000</td>\n",
       "      <td>59400.000000</td>\n",
       "      <td>59400.000000</td>\n",
       "      <td>59400.000000</td>\n",
       "    </tr>\n",
       "    <tr>\n",
       "      <th>mean</th>\n",
       "      <td>37115.131768</td>\n",
       "      <td>317.650385</td>\n",
       "      <td>668.297239</td>\n",
       "      <td>34.077427</td>\n",
       "      <td>-5.706033e+00</td>\n",
       "      <td>0.474141</td>\n",
       "      <td>15.297003</td>\n",
       "      <td>5.629747</td>\n",
       "      <td>179.909983</td>\n",
       "      <td>1300.652475</td>\n",
       "    </tr>\n",
       "    <tr>\n",
       "      <th>std</th>\n",
       "      <td>21453.128371</td>\n",
       "      <td>2997.574558</td>\n",
       "      <td>693.116350</td>\n",
       "      <td>6.567432</td>\n",
       "      <td>2.946019e+00</td>\n",
       "      <td>12.236230</td>\n",
       "      <td>17.587406</td>\n",
       "      <td>9.633649</td>\n",
       "      <td>471.482176</td>\n",
       "      <td>951.620547</td>\n",
       "    </tr>\n",
       "    <tr>\n",
       "      <th>min</th>\n",
       "      <td>0.000000</td>\n",
       "      <td>0.000000</td>\n",
       "      <td>-90.000000</td>\n",
       "      <td>0.000000</td>\n",
       "      <td>-1.164944e+01</td>\n",
       "      <td>0.000000</td>\n",
       "      <td>1.000000</td>\n",
       "      <td>0.000000</td>\n",
       "      <td>0.000000</td>\n",
       "      <td>0.000000</td>\n",
       "    </tr>\n",
       "    <tr>\n",
       "      <th>25%</th>\n",
       "      <td>18519.750000</td>\n",
       "      <td>0.000000</td>\n",
       "      <td>0.000000</td>\n",
       "      <td>33.090347</td>\n",
       "      <td>-8.540621e+00</td>\n",
       "      <td>0.000000</td>\n",
       "      <td>5.000000</td>\n",
       "      <td>2.000000</td>\n",
       "      <td>0.000000</td>\n",
       "      <td>0.000000</td>\n",
       "    </tr>\n",
       "    <tr>\n",
       "      <th>50%</th>\n",
       "      <td>37061.500000</td>\n",
       "      <td>0.000000</td>\n",
       "      <td>369.000000</td>\n",
       "      <td>34.908743</td>\n",
       "      <td>-5.021597e+00</td>\n",
       "      <td>0.000000</td>\n",
       "      <td>12.000000</td>\n",
       "      <td>3.000000</td>\n",
       "      <td>25.000000</td>\n",
       "      <td>1986.000000</td>\n",
       "    </tr>\n",
       "    <tr>\n",
       "      <th>75%</th>\n",
       "      <td>55656.500000</td>\n",
       "      <td>20.000000</td>\n",
       "      <td>1319.250000</td>\n",
       "      <td>37.178387</td>\n",
       "      <td>-3.326156e+00</td>\n",
       "      <td>0.000000</td>\n",
       "      <td>17.000000</td>\n",
       "      <td>5.000000</td>\n",
       "      <td>215.000000</td>\n",
       "      <td>2004.000000</td>\n",
       "    </tr>\n",
       "    <tr>\n",
       "      <th>max</th>\n",
       "      <td>74247.000000</td>\n",
       "      <td>350000.000000</td>\n",
       "      <td>2770.000000</td>\n",
       "      <td>40.345193</td>\n",
       "      <td>-2.000000e-08</td>\n",
       "      <td>1776.000000</td>\n",
       "      <td>99.000000</td>\n",
       "      <td>80.000000</td>\n",
       "      <td>30500.000000</td>\n",
       "      <td>2013.000000</td>\n",
       "    </tr>\n",
       "  </tbody>\n",
       "</table>\n",
       "</div>"
      ],
      "text/plain": [
       "                 id     amount_tsh    gps_height     longitude      latitude  \\\n",
       "count  59400.000000   59400.000000  59400.000000  59400.000000  5.940000e+04   \n",
       "mean   37115.131768     317.650385    668.297239     34.077427 -5.706033e+00   \n",
       "std    21453.128371    2997.574558    693.116350      6.567432  2.946019e+00   \n",
       "min        0.000000       0.000000    -90.000000      0.000000 -1.164944e+01   \n",
       "25%    18519.750000       0.000000      0.000000     33.090347 -8.540621e+00   \n",
       "50%    37061.500000       0.000000    369.000000     34.908743 -5.021597e+00   \n",
       "75%    55656.500000      20.000000   1319.250000     37.178387 -3.326156e+00   \n",
       "max    74247.000000  350000.000000   2770.000000     40.345193 -2.000000e-08   \n",
       "\n",
       "        num_private   region_code  district_code    population  \\\n",
       "count  59400.000000  59400.000000   59400.000000  59400.000000   \n",
       "mean       0.474141     15.297003       5.629747    179.909983   \n",
       "std       12.236230     17.587406       9.633649    471.482176   \n",
       "min        0.000000      1.000000       0.000000      0.000000   \n",
       "25%        0.000000      5.000000       2.000000      0.000000   \n",
       "50%        0.000000     12.000000       3.000000     25.000000   \n",
       "75%        0.000000     17.000000       5.000000    215.000000   \n",
       "max     1776.000000     99.000000      80.000000  30500.000000   \n",
       "\n",
       "       construction_year  \n",
       "count       59400.000000  \n",
       "mean         1300.652475  \n",
       "std           951.620547  \n",
       "min             0.000000  \n",
       "25%             0.000000  \n",
       "50%          1986.000000  \n",
       "75%          2004.000000  \n",
       "max          2013.000000  "
      ]
     },
     "execution_count": 3,
     "metadata": {},
     "output_type": "execute_result"
    }
   ],
   "source": [
    "merged_data=pd.concat([df_preds,df_target],axis=1,join='inner')\n",
    "\n",
    "df_preds.describe()\n"
   ]
  },
  {
   "cell_type": "code",
   "execution_count": 4,
   "metadata": {},
   "outputs": [
    {
     "data": {
      "text/plain": [
       "(59400, 40)"
      ]
     },
     "execution_count": 4,
     "metadata": {},
     "output_type": "execute_result"
    }
   ],
   "source": [
    "df_preds.shape"
   ]
  },
  {
   "cell_type": "markdown",
   "metadata": {},
   "source": [
    "### check for large number of NA"
   ]
  },
  {
   "cell_type": "code",
   "execution_count": 5,
   "metadata": {
    "scrolled": false
   },
   "outputs": [
    {
     "name": "stdout",
     "output_type": "stream",
     "text": [
      "id                           0\n",
      "amount_tsh                   0\n",
      "date_recorded                0\n",
      "funder                    3635\n",
      "gps_height                   0\n",
      "installer                 3655\n",
      "longitude                    0\n",
      "latitude                     0\n",
      "wpt_name                     0\n",
      "num_private                  0\n",
      "basin                        0\n",
      "subvillage                 371\n",
      "region                       0\n",
      "region_code                  0\n",
      "district_code                0\n",
      "lga                          0\n",
      "ward                         0\n",
      "population                   0\n",
      "public_meeting            3334\n",
      "recorded_by                  0\n",
      "scheme_management         3877\n",
      "scheme_name              28166\n",
      "permit                    3056\n",
      "construction_year            0\n",
      "extraction_type              0\n",
      "extraction_type_group        0\n",
      "extraction_type_class        0\n",
      "management                   0\n",
      "management_group             0\n",
      "payment                      0\n",
      "payment_type                 0\n",
      "water_quality                0\n",
      "quality_group                0\n",
      "quantity                     0\n",
      "quantity_group               0\n",
      "source                       0\n",
      "source_type                  0\n",
      "source_class                 0\n",
      "waterpoint_type              0\n",
      "waterpoint_type_group        0\n",
      "dtype: int64\n",
      "46094\n"
     ]
    }
   ],
   "source": [
    "print(df_preds.isna().sum())\n",
    "print(df_preds.isna().sum().sum())"
   ]
  },
  {
   "cell_type": "markdown",
   "metadata": {},
   "source": [
    "the smaller around 4k values we can get rid off it should not mess up the distrbution"
   ]
  },
  {
   "cell_type": "code",
   "execution_count": 6,
   "metadata": {},
   "outputs": [
    {
     "data": {
      "text/plain": [
       "['Roman',\n",
       " nan,\n",
       " 'Nyumba ya mungu pipe scheme',\n",
       " 'Zingibali',\n",
       " 'BL Bondeni',\n",
       " 'None',\n",
       " \"wanging'ombe water supply s\",\n",
       " 'Makanj',\n",
       " 'Kidabu',\n",
       " 'Mashangwi',\n",
       " 'Quick wins Program',\n",
       " 'Komaka mandaka',\n",
       " 'Sobodo Borehole Scheme',\n",
       " 'Kitukuni water supply',\n",
       " 'BL Mwakikoti',\n",
       " 'Chalinze wate',\n",
       " 'Mae pipeline',\n",
       " 'UNDP',\n",
       " 'Ngana water supplied scheme',\n",
       " 'Itun',\n",
       " 'Bomala',\n",
       " 'Kirua kahe pumping water trust',\n",
       " 'Misiwa',\n",
       " 'Mtwango water supplied sche',\n",
       " 'K',\n",
       " 'Machumba estate pipe line',\n",
       " 'SHIMASA',\n",
       " 'wangama water supply scheme',\n",
       " 'Shirimatunda Water Supply',\n",
       " 'Laela group water Supp',\n",
       " 'Makwale water supplied sche',\n",
       " \"Nyang'hwale\",\n",
       " 'Njoro Water Supply',\n",
       " 'Kirua kahe gravity water supply trust',\n",
       " 'Olgilai pipe line',\n",
       " 'Mabula mountains spr',\n",
       " 'Mkongoro One',\n",
       " 'Maambreni gravity water supply',\n",
       " 'Mwando water supply',\n",
       " 'M',\n",
       " 'Kaisho/Isingiro w',\n",
       " \"wanging'ombe supply scheme\",\n",
       " 'Tove Mtwango gravity Scheme',\n",
       " 'Tengeru gravity water supply',\n",
       " 'Kulasi water supply',\n",
       " 'Malemb',\n",
       " 'Tawa',\n",
       " 'Loruvani gravity water supply',\n",
       " 'HESAWA',\n",
       " 'B',\n",
       " 'Gawa',\n",
       " 'Chankele/Bubango water project',\n",
       " 'Bagamoyo wate',\n",
       " 'Kijiji',\n",
       " 'Donge',\n",
       " 'Mradi wa maji wa mpitimbi',\n",
       " \"Mwang'hosha Nyamalogo\",\n",
       " 'Shallow well',\n",
       " 'Mbati Water Supply',\n",
       " 'Losaa-Kia water supply',\n",
       " 'Kwa Nyange water supply',\n",
       " 'Kiwele',\n",
       " 'N',\n",
       " 'Tuvaila gravity water supply',\n",
       " 'Bumi',\n",
       " 'Kan',\n",
       " 'TASAF',\n",
       " 'Ihela',\n",
       " 'Kabindi Water Supply',\n",
       " 'Shagai streem',\n",
       " 'Distri',\n",
       " 'LIPS Borehole Scheme',\n",
       " 'Kanga water supplied scheme',\n",
       " 'Mkam',\n",
       " 'Vugiro',\n",
       " 'Kiro',\n",
       " 'Government Borehole Scheme',\n",
       " 'Maji ya kutega',\n",
       " 'Londoni water supply',\n",
       " 'Njalamatata water gravity scheme',\n",
       " 'Mtowisa water suply',\n",
       " 'Msanzi Water Supply Sc',\n",
       " 'Amani spring',\n",
       " 'Meseke',\n",
       " 'Kisimiri gravity water supply',\n",
       " 'S',\n",
       " 'Hinju water supply',\n",
       " 'Hempanga water supply',\n",
       " 'EKTM 3 water supply',\n",
       " 'Kasahunga pipe scheme',\n",
       " 'Kashanda spring source',\n",
       " 'Matuli/Mdaula',\n",
       " 'Vyama vya watumia maji',\n",
       " 'Sinyanga water supplied sch',\n",
       " 'Coffee curing-Kahe pipeline',\n",
       " 'Olkokola pipe line',\n",
       " 'Kilotweni water supply',\n",
       " 'Kabali',\n",
       " 'Kazilankanda Water Supply',\n",
       " 'MWS',\n",
       " 'Dimamba',\n",
       " 'Ma',\n",
       " 'Luga',\n",
       " 'Borehole',\n",
       " 'Mahuni',\n",
       " 'Jihoro',\n",
       " 'Ufinga river',\n",
       " 'FW',\n",
       " 'Mtiro pipeline',\n",
       " 'Ipepo',\n",
       " 'Chikuyu water supply',\n",
       " 'Chiz',\n",
       " 'Mkon',\n",
       " 'Mradi wa maji wa sikonge',\n",
       " 'Kigaga gravity water supply',\n",
       " 'DANIDA',\n",
       " 'Mtimbira',\n",
       " 'Deep well',\n",
       " 'Kindoroko water supply',\n",
       " 'Kabuye',\n",
       " 'Tungu water piped scheme',\n",
       " 'Saitero olosaita pipe line',\n",
       " 'Nyanza water project',\n",
       " 'Otaruni water supply',\n",
       " 'Kimanda',\n",
       " 'Ilesi gravity water supply',\n",
       " 'Mowasu',\n",
       " 'Mbokomu east',\n",
       " 'Nzas',\n",
       " 'World Bank',\n",
       " 'Libango water use group scheme',\n",
       " 'Kalangalala',\n",
       " 'Mkongoro Two',\n",
       " 'Government',\n",
       " 'Mkoy',\n",
       " 'CDTF',\n",
       " 'Baba',\n",
       " 'imalilo water supply scheme',\n",
       " 'Isongo w',\n",
       " 'Saga',\n",
       " 'Nabaiye pipe line',\n",
       " 'Una mkolowoni',\n",
       " \"Nang'awanga water supply\",\n",
       " 'Mirerani pipe scheme',\n",
       " 'Kanenge',\n",
       " 'Tanzania flowers pipe line',\n",
       " 'Tingatinga Ngerayani water',\n",
       " 'Mlan',\n",
       " 'Ukange',\n",
       " 'Community',\n",
       " 'Kyonza',\n",
       " 'Ikela Wa',\n",
       " 'Chal',\n",
       " 'Pand',\n",
       " 'Kifaru water Supply',\n",
       " 'Huru mawela water project',\n",
       " 'Kaviwasu',\n",
       " 'Mradi wa maji wa kilagano',\n",
       " 'Olumulo pipe line',\n",
       " 'Jongoj',\n",
       " 'mtwango water supply scheme',\n",
       " 'Marangu baraza',\n",
       " 'Marieni Makanya water supply',\n",
       " 'Nyo',\n",
       " 'Mkunya',\n",
       " 'Sinyanga  water supplied sc',\n",
       " 'kaleng',\n",
       " 'Nzi',\n",
       " 'Ruwini water supply',\n",
       " 'CDG',\n",
       " 'Uchira water users association',\n",
       " 'TM part Three',\n",
       " 'Sokeni pipeline',\n",
       " 'Lyamungo umbwe water supply',\n",
       " 'Mamire water supply',\n",
       " 'Coffee-curing pipeline',\n",
       " 'Mwaya Mn',\n",
       " 'Kit',\n",
       " 'Mtanga water supply',\n",
       " 'Kidahwe water project',\n",
       " 'Mwamanota water piped scheme',\n",
       " 'Fukayosi Wate',\n",
       " 'Kasurua water supply',\n",
       " 'Munge water scheme',\n",
       " 'Majimingi',\n",
       " 'REDESO',\n",
       " 'Shagayo forest',\n",
       " 'Ngabav',\n",
       " 'IKTM 2 water supply',\n",
       " 'Olchoronyokye water projec',\n",
       " 'Nabai pipe line',\n",
       " 'Mtit',\n",
       " 'Mt',\n",
       " 'BL Matadi A',\n",
       " 'Kitend',\n",
       " 'Mchangani',\n",
       " 'Namwinyu Water Supply',\n",
       " 'matembwe water supply schem',\n",
       " 'Jihu piped water Scheme',\n",
       " 'Kandika water supply',\n",
       " 'Mradi wa maji Komuge',\n",
       " 'Nduruma pipe line',\n",
       " 'Chovora',\n",
       " 'Jaira water supply',\n",
       " 'TASSAF',\n",
       " 'Kibohelo  forest',\n",
       " \"Uroki-Bomang'ombe water sup\",\n",
       " 'Lima gravity water scheme',\n",
       " 'Mangamba forest',\n",
       " 'World Bank Water Project',\n",
       " 'Migoli',\n",
       " 'Tangeni',\n",
       " 'Mlimba W',\n",
       " 'Water from DAWASCO',\n",
       " 'Muwimb',\n",
       " 'Tandal',\n",
       " 'Onya water  supply',\n",
       " 'Nyazwa',\n",
       " 'mbigil',\n",
       " 'Mradi wa maji wa mahanje',\n",
       " 'Hakwe water supply',\n",
       " 'Ninga hydram water scheme',\n",
       " 'Hemb',\n",
       " 'Upper Ruvu',\n",
       " 'Mradi wa maji wa ntend',\n",
       " 'Hingilili',\n",
       " 'Chig',\n",
       " 'Iw',\n",
       " 'Saseni',\n",
       " 'RWSSP',\n",
       " 'Mgaraganza water project',\n",
       " 'Msanzi water Supply',\n",
       " 'Handeni Trunk Main(H',\n",
       " 'Mazinde ngua water',\n",
       " 'Kwa',\n",
       " 'Mtandao wa Mabomba',\n",
       " 'Kwagwisembeza',\n",
       " 'Nkenja',\n",
       " 'Likawage Water supply',\n",
       " 'Nakombo',\n",
       " 'Nyafisi',\n",
       " 'Nyanga/Kalege',\n",
       " 'Mandawa',\n",
       " 'Chanjare water supply',\n",
       " 'Sabodo Borehole Scheme',\n",
       " 'Maambreni gravity water supply breni',\n",
       " 'Sakale water supply',\n",
       " 'Kurui water supply',\n",
       " 'I',\n",
       " 'Masa',\n",
       " 'Foki',\n",
       " 'Lupali',\n",
       " 'Lake Victoria basin',\n",
       " 'Songota pipe line',\n",
       " 'Mfumbi',\n",
       " 'KATORO PUMPING SCHEME',\n",
       " 'Rain water',\n",
       " 'Nandembo Water Supply',\n",
       " 'Mapinduzi',\n",
       " 'Vulue water supply',\n",
       " 'Huru materuni water supply',\n",
       " 'Mwigumbi piped scheme',\n",
       " 'Machame water supply',\n",
       " 'Nduguti pipes water supply',\n",
       " 'Milola Water Scheme',\n",
       " 'Mpwa',\n",
       " 'Rwamgurusi water',\n",
       " 'Kongei water supply',\n",
       " 'Mradi wa maji wa kakola',\n",
       " 'Mbae',\n",
       " 'Dihimba water supply',\n",
       " 'MANGISA',\n",
       " 'It',\n",
       " 'Maweni water supply',\n",
       " 'Shengui forest',\n",
       " 'Mwanona',\n",
       " 'Mtum',\n",
       " 'JAICA Borehole Scheme',\n",
       " 'Fark',\n",
       " 'Ilawa',\n",
       " 'Kisanja water supply',\n",
       " 'ILOL',\n",
       " 'Maji Coast(Ruvu)',\n",
       " 'World banks',\n",
       " 'AIC',\n",
       " 'RW',\n",
       " 'Mradi wa maji Shirati',\n",
       " 'Mitema',\n",
       " 'Ilolo',\n",
       " 'Cham',\n",
       " 'Mvuh',\n",
       " 'Magati gravity water',\n",
       " \"Nyang'\",\n",
       " 'Matund',\n",
       " 'MAKOGA WATER SUPPLY',\n",
       " 'BUUDER',\n",
       " 'Mto China',\n",
       " 'Kibola gravity water supply',\n",
       " 'Mseko water supply',\n",
       " 'Kiboelo forest',\n",
       " 'Naisinyia pipe scheme',\n",
       " 'Nya',\n",
       " 'Kand',\n",
       " 'Ipululu water supply',\n",
       " 'Irole',\n",
       " 'NCHULOWAIBALE WATER SUPPLY SCHEME',\n",
       " 'Ru',\n",
       " 'ADRA',\n",
       " 'Ilente streem',\n",
       " 'Bagamoyo Wate',\n",
       " 'TM part Four',\n",
       " 'RUMWAMCH',\n",
       " 'Magang',\n",
       " 'Luchelengwa',\n",
       " 'Mang`ula',\n",
       " 'upper Ruvu',\n",
       " 'Losaa Kia water supply',\n",
       " 'G',\n",
       " 'BRUDER',\n",
       " 'Kiumba water supply',\n",
       " 'Inyonga water supply',\n",
       " 'manyunyu water supply schem',\n",
       " 'Mgandazi',\n",
       " 'Tanesco water supply',\n",
       " 'Kaviwaso',\n",
       " 'Marera-Lole pipeline',\n",
       " 'Songosongo Water supply',\n",
       " 'Jidowaso',\n",
       " 'Boza water supply',\n",
       " 'Njia panda Piped water Scheme',\n",
       " 'Katoro',\n",
       " 'Seje',\n",
       " 'Mbuo mkunwa water supply',\n",
       " 'Upper Ruvu Ba',\n",
       " 'Kishoju Water  Su',\n",
       " 'Mkomazi water supply',\n",
       " 'Centra',\n",
       " 'Njog',\n",
       " 'Kagongo water project',\n",
       " 'Buku',\n",
       " 'Mtobo',\n",
       " 'Hesawa',\n",
       " 'Twendembele Water Supply',\n",
       " 'Anglic',\n",
       " 'Maga',\n",
       " 'Ga',\n",
       " 'Igongolo gravity water sche',\n",
       " 'Ngulu water supply',\n",
       " 'Matai group water Supp',\n",
       " 'Mradi wa maji wa businde',\n",
       " 'LIPS Water Scheme',\n",
       " 'Mradi wa maji wa peramiho',\n",
       " 'lugalo',\n",
       " 'Kiverenge water supply',\n",
       " 'Mradi wa maji wa Kipanga',\n",
       " 'Mradi wa maji vijijini',\n",
       " 'Mkabenga spring source',\n",
       " 'itulahumba water supply sch',\n",
       " 'Marangu west',\n",
       " 'Itete wa',\n",
       " 'Ngelen',\n",
       " 'Kashutakasimba',\n",
       " 'Monduli pipe line',\n",
       " 'OMBASI',\n",
       " 'Lipumburu Water',\n",
       " 'Mzizima Water',\n",
       " 'Maleng',\n",
       " 'Mkangoru spring source',\n",
       " 'Maya',\n",
       " 'Magoma water supply',\n",
       " 'Chun',\n",
       " 'Ikuna gravity water project',\n",
       " 'Old keni water supply',\n",
       " 'Isanga',\n",
       " 'Nyachenda',\n",
       " 'Busi',\n",
       " 'Mpute',\n",
       " 'Lembeni water supply',\n",
       " 'none',\n",
       " 'Michenga',\n",
       " 'Mkalamo water supply',\n",
       " 'Water board',\n",
       " 'Mwande',\n",
       " 'Kizi',\n",
       " 'Mad',\n",
       " 'Chongera water su',\n",
       " 'Central basin',\n",
       " 'Ikonda',\n",
       " 'Kisaika  pipeline',\n",
       " 'Magula mountains spr',\n",
       " 'Mroroma',\n",
       " 'Mbwinji/MWS',\n",
       " 'Kirachi water supply',\n",
       " 'Robanda pumping scheme',\n",
       " 'Rain harvest',\n",
       " 'Luholo',\n",
       " 'Igoj',\n",
       " 'Mamsera water supply',\n",
       " 'Libango water scheme',\n",
       " 'Baga 2 streem',\n",
       " 'Upuge water supply',\n",
       " 'Nyamabale spring source',\n",
       " 'Lemanyata pipe line',\n",
       " 'Hogo',\n",
       " 'Nagoma water supply',\n",
       " 'Mahida mawanda water supply',\n",
       " 'Kamatendeli spring source',\n",
       " 'Nselembwe water supply',\n",
       " 'Kimara Water Supply',\n",
       " 'Nala',\n",
       " 'Tove mtwango',\n",
       " 'Kwawameku water supply',\n",
       " 'Itigi water supply',\n",
       " 'Kiremeta water supply',\n",
       " 'Mkom',\n",
       " 'Luwumb',\n",
       " 'TPRI pipe line',\n",
       " 'Upami gravity water scheme',\n",
       " 'BL Kirishi',\n",
       " 'Mnyawi water supply',\n",
       " 'Kilimatinde water supply',\n",
       " 'Mradi wa maji wa gungu',\n",
       " 'Kitunguli water supply',\n",
       " 'Kirwa Keni water supply',\n",
       " 'Mtan',\n",
       " 'Likamba mindeu pipe line',\n",
       " 'Kib',\n",
       " 'Hedaru kati water supply',\n",
       " 'Kihinda water sup',\n",
       " 'Matai group  Water Sup',\n",
       " 'Maramba gravity spri',\n",
       " 'Utende water supply',\n",
       " 'Igalula water supply',\n",
       " 'Maho',\n",
       " 'Rika',\n",
       " 'Iduo',\n",
       " 'BL Nkini',\n",
       " 'Olkokola mwandet pipe line',\n",
       " 'Kimasaki gravity water supply',\n",
       " 'imalinyi water supply schem',\n",
       " 'Mkongoro one',\n",
       " 'Sofi Maj',\n",
       " 'Murubila spring source',\n",
       " 'Nkwenda water sup',\n",
       " 'Igosi',\n",
       " 'Mradi wa maji wa senga',\n",
       " 'Lake Victoria pipe scheme',\n",
       " 'Manu',\n",
       " 'Onya water supply',\n",
       " 'Handeni water supply',\n",
       " 'Chif',\n",
       " 'Mradi wa maji wa matimila',\n",
       " 'Chambogo forest',\n",
       " 'OLD RUBALE WATER SUPPLY SCHEME',\n",
       " 'Gamowaso',\n",
       " 'Nyamitoko  water',\n",
       " 'Mradi wa maji wa Kiloleli',\n",
       " 'AIC kahunda',\n",
       " 'Kabagendera water',\n",
       " 'Kole',\n",
       " 'Ikete',\n",
       " 'Mrao water supply',\n",
       " 'Holili water supply',\n",
       " 'U',\n",
       " 'Shirimatunda water Supply',\n",
       " 'Rofa',\n",
       " 'Murinyina spring source',\n",
       " 'Lufuo',\n",
       " 'Mnerongongo',\n",
       " 'Kifaru/kituri water supply',\n",
       " 'Mradi wa maji wa pito',\n",
       " 'Ngwarwa water scheme',\n",
       " 'Maliwa',\n",
       " 'Mnyuzi water supply',\n",
       " 'MONGAHAI RIVER',\n",
       " 'Makamba kwa lukonge',\n",
       " 'Iyen',\n",
       " 'isoliwaya water supply sche',\n",
       " 'Mazinde water supply',\n",
       " 'Tuta',\n",
       " 'Ihowanja',\n",
       " 'LENCH',\n",
       " 'Orumekeke water scheme',\n",
       " 'Timbolo sambasha TPRI pipe line',\n",
       " 'Kasangezi',\n",
       " 'Lendanai pipe scheme',\n",
       " 'Ugabwa',\n",
       " 'Ekenywa pipe scheme',\n",
       " 'Mindutulieni',\n",
       " 'Lyamungo-Umbwe water supply',\n",
       " \"Seela Sing'isi gravity water supply\",\n",
       " 'Doroto water supply',\n",
       " 'Ki',\n",
       " 'Njengwa water supply',\n",
       " 'Wasa',\n",
       " 'Kwevumo streem',\n",
       " 'Kinyinya gravity water supply',\n",
       " 'Kise',\n",
       " 'Idegen',\n",
       " 'Mivumoni borehole',\n",
       " 'Uhekule',\n",
       " 'Matekwe',\n",
       " 'Mbunge',\n",
       " 'Yongoma',\n",
       " 'Nzug',\n",
       " 'Kiamachini water supply',\n",
       " 'RURAL WATER SUPPLY',\n",
       " 'Mafi Mountains',\n",
       " 'Marambo',\n",
       " 'Chip',\n",
       " 'Sali Wat',\n",
       " 'Nzihi',\n",
       " 'Chawi water supply',\n",
       " 'Makidi water supply',\n",
       " 'W',\n",
       " 'Mradi wa mkombozi',\n",
       " 'Tyeme water supply',\n",
       " 'Maswa Water supply program',\n",
       " 'no scheme',\n",
       " 'Dindimo Water Supply',\n",
       " 'Ifunda',\n",
       " 'Mradi wa maji wa kanyenye',\n",
       " 'Marua msahatie water supply',\n",
       " 'Mradi wa maji wa litisha',\n",
       " 'Idodi',\n",
       " 'Ngamanga water supplied sch',\n",
       " 'Mkutimango water supply',\n",
       " 'Kitere water supply',\n",
       " 'Sanje Wa',\n",
       " 'Nyabibuye gravity water supply',\n",
       " 'Nkunga',\n",
       " 'Mkunya/MWS',\n",
       " 'Uso',\n",
       " 'ADP Simbo',\n",
       " 'Nyakasanda gravity water supply',\n",
       " 'Mshewa Water Supply',\n",
       " 'MMILUKI',\n",
       " 'AUWASA pipe scheme',\n",
       " 'Nyaruyoba/Kasaka gravity water supply',\n",
       " 'Nkuuny gravity water supply',\n",
       " 'Mombo water supply',\n",
       " 'shallow well',\n",
       " 'WSDP',\n",
       " 'Ihum',\n",
       " 'Nkul',\n",
       " 'Maja',\n",
       " 'Kidaba',\n",
       " 'Mradi wa maji Nyanduga',\n",
       " 'Morongo',\n",
       " 'Masaseni water supply',\n",
       " 'Majonanga',\n",
       " 'BUWASA',\n",
       " 'Nasula gravity water supply',\n",
       " 'Lake Victoria',\n",
       " 'Tamp',\n",
       " 'Janda',\n",
       " 'Bulong',\n",
       " 'Maland',\n",
       " 'Mradi wa maji matendo',\n",
       " 'Kw',\n",
       " 'L',\n",
       " 'Matamb',\n",
       " 'Namahimba Water gravity scheme',\n",
       " 'Mkuzu forest',\n",
       " 'Mradi wa maji wa Ipole',\n",
       " 'Kitwechembogo Water Supply',\n",
       " 'Kibohelo streem',\n",
       " 'Msolwa U',\n",
       " 'Luko',\n",
       " 'Kirwa  water supply',\n",
       " 'Tove',\n",
       " 'Mananga-himo pipeline',\n",
       " 'Ilindi',\n",
       " 'Endawasu',\n",
       " 'Kuri',\n",
       " 'Pahi',\n",
       " 'Ikuy',\n",
       " 'Maun',\n",
       " 'Dingidingi water supply',\n",
       " 'Kakonko /Mbizi gravity water supply',\n",
       " 'Moronga',\n",
       " 'Zepalama',\n",
       " 'Jumuiya ya watumia maji kilema kusini',\n",
       " 'Mradi wa maji wa kabila',\n",
       " 'Murufiti',\n",
       " 'Kong`hoi',\n",
       " 'Malemeu gravity water supply',\n",
       " 'Sasani',\n",
       " 'Mlomboza forest',\n",
       " 'Akheri gravity water supply',\n",
       " 'Naroko pipe line',\n",
       " 'Uru shimbwe',\n",
       " 'Oljoro Namba 5 pipe scheme',\n",
       " 'Nyamtukuza',\n",
       " 'Mradi wa Maji mwanzi',\n",
       " 'Mi',\n",
       " 'Maboga',\n",
       " 'Nyamugarika',\n",
       " 'Nyangao Water Supply',\n",
       " 'BL Kashashi',\n",
       " 'BL Tindigani',\n",
       " 'Mv',\n",
       " 'Tank refu Mtakuja',\n",
       " 'Kichananga gravity water supply',\n",
       " 'Malama',\n",
       " 'Ukwama',\n",
       " 'Olkimo water project',\n",
       " 'Finwater Supply',\n",
       " 'Wangingombe gravity Scheme',\n",
       " 'LVEMP',\n",
       " 'Nansio Water Supply',\n",
       " 'Rau kariwa karikachi',\n",
       " 'Kwamalima water supply',\n",
       " 'Moniki water scheme',\n",
       " 'Kinyik',\n",
       " 'Bangata water project',\n",
       " 'Murutunguru Water Supply',\n",
       " 'Mradi wa maji wa kasimbu',\n",
       " 'Vianzi Water Supply',\n",
       " 'Kidege forest',\n",
       " 'Shaba water supply',\n",
       " 'Ipuli pipes water supply',\n",
       " 'Heivu water supply',\n",
       " 'Kidia kilemapunda',\n",
       " 'water supply at Nyakasungwa',\n",
       " 'Kiranjeranje Water supply',\n",
       " 'Tumb',\n",
       " 'Divue ri',\n",
       " 'Mich',\n",
       " 'Maut',\n",
       " 'Nyaluhande',\n",
       " 'Tutu',\n",
       " 'Ubaa water supply',\n",
       " 'Mwamashele water piped scheme',\n",
       " 'Changalikwa water su',\n",
       " 'KARUKEKERE WATER ENVIRONMENT SANITATION SCHEME',\n",
       " 'Gelailumbwa water project',\n",
       " 'Nyaruyoba/ Kasaka gravity water',\n",
       " 'Diburuma',\n",
       " 'Saranda water supply',\n",
       " 'Kipumbwi water suppl',\n",
       " 'Kwitaba spring source',\n",
       " 'Nyakaiga  water s',\n",
       " 'Muriti Water Supply',\n",
       " 'Mashangwe',\n",
       " 'Kipara',\n",
       " 'Mlal',\n",
       " 'ngamanga water supplied sch',\n",
       " 'Tangawizi Water Supply',\n",
       " 'TM part Six',\n",
       " 'Du',\n",
       " 'Kazuramimba water project',\n",
       " 'Bang',\n",
       " 'Gonjaugu water supply',\n",
       " 'Kambi ya chokaa pipe scheme',\n",
       " 'Oldonyowas maji salama',\n",
       " 'Nyantamba',\n",
       " 'Nyasovu',\n",
       " 'New keni water supply',\n",
       " 'Makang',\n",
       " 'Kiindogolo',\n",
       " 'Sekei pipe line',\n",
       " 'US Embassy Borehole Scheme',\n",
       " 'Ilambila water supply',\n",
       " 'Ussoke mlimani water supply',\n",
       " 'Kilumb',\n",
       " 'Mvaji ri',\n",
       " 'Kima',\n",
       " 'Sopa water supply',\n",
       " 'Mkulu water supply',\n",
       " 'Churu water supply',\n",
       " 'Mradi wa maji Vijijni',\n",
       " 'Kwakoa water supply',\n",
       " 'IWEKULE WATER SUPPLY',\n",
       " 'Tamb',\n",
       " 'Chiola',\n",
       " 'Kenswa',\n",
       " 'Suwasa water supply',\n",
       " 'Mlinga streem',\n",
       " 'Muun',\n",
       " 'Kagunguli Water Supply',\n",
       " 'Ballaa pipe line',\n",
       " 'BL Kandashi',\n",
       " 'Chibula',\n",
       " 'Namikango',\n",
       " 'BL Lekirumuni',\n",
       " 'Kumubila and mukalinzi  spring source',\n",
       " 'Kihoro',\n",
       " 'Gallapo water supply',\n",
       " 'Intinka Water Suppy',\n",
       " 'Ngulu water Supply',\n",
       " 'Ihongo',\n",
       " 'Nsololo water supply',\n",
       " 'Segese pipe scheme',\n",
       " 'Manyoni water supply',\n",
       " 'Ndapo',\n",
       " 'Ikondo electrical water sch',\n",
       " 'Magoto piped Water suplly',\n",
       " 'Machame Aleni water supply',\n",
       " 'Mambreni gravity water supply',\n",
       " 'Ilas',\n",
       " 'Dong',\n",
       " 'KASHWASA',\n",
       " 'Nyakagera water s',\n",
       " 'Kindoroko  water supply',\n",
       " 'Ushiri water supply',\n",
       " 'Sumayan gravit water supply',\n",
       " 'Image',\n",
       " 'Nameqhwadiba',\n",
       " \"Mang'ora juu water supply\",\n",
       " 'Shengena water supply',\n",
       " 'Kalesha water supply',\n",
       " 'BL Ngarenairobi',\n",
       " 'Chikola water supply',\n",
       " 'Maswa Water supplier supply program',\n",
       " 'Mitema/MWS',\n",
       " 'Mashami water supply',\n",
       " 'Msitu wa tembo pipe scheme',\n",
       " 'IRAMBA NAMHULA WATER SCHEME',\n",
       " 'Kileo Water Supply',\n",
       " 'Mushori',\n",
       " 'Gyewasu',\n",
       " 'New keni A water suply',\n",
       " 'Mradi wa maji wa ruvuma',\n",
       " 'Kigw',\n",
       " 'Kyamara gravity water supply',\n",
       " 'Nger',\n",
       " 'Minyinya Piped water supply',\n",
       " 'MigelegeleWater supply',\n",
       " 'Samb',\n",
       " 'Ivalal',\n",
       " 'Mwera water supply',\n",
       " 'Losinoni maji salama',\n",
       " 'Namajani',\n",
       " 'Mradi wa maji wa misha',\n",
       " 'Makelele water suppl',\n",
       " 'Soya',\n",
       " 'Ntom',\n",
       " 'Olmolog water project',\n",
       " 'RADA',\n",
       " 'Mradi wa maji wa kizwi',\n",
       " 'Bulale Water Supply',\n",
       " 'Kamb',\n",
       " 'Kido',\n",
       " 'Kwemkuna',\n",
       " 'Mwadui piped scheme',\n",
       " 'Misha water suppl',\n",
       " 'Usungi',\n",
       " 'Mradi wa maji wa chemchem',\n",
       " 'Mzia water supply',\n",
       " 'Nywelo streem',\n",
       " 'Mradi wa maji wa matogolo',\n",
       " 'Msakangoto',\n",
       " 'Nyamno',\n",
       " 'Mtikanga gravity Scheme',\n",
       " 'Minaki Water Supply',\n",
       " 'Mtam',\n",
       " 'Mawande gravity Scheme',\n",
       " 'Mshinde',\n",
       " 'Mzizima Water Supply',\n",
       " \"Lerang'wa water supply\",\n",
       " 'Muhalala water supply',\n",
       " 'Kiwawa water supply',\n",
       " 'GEN Borehole Scheme',\n",
       " 'Maji mingi',\n",
       " 'Magadini pipe scheme',\n",
       " 'Machoneni',\n",
       " 'Kasahunga piped scheme',\n",
       " 'D',\n",
       " 'Magoto piped Water  suplly',\n",
       " 'Mkotokuyana',\n",
       " 'Makingo water supply',\n",
       " 'Luwasu water supply',\n",
       " 'Komolo pipe scheme',\n",
       " 'Mrike water supply',\n",
       " 'Olkungabo gravity water supply',\n",
       " 'Riftvalley Project water supply',\n",
       " 'Maji ya Chai gravity water supply',\n",
       " 'MAKOGA',\n",
       " 'Kigongoi gravity wat',\n",
       " 'Kuna',\n",
       " 'Nhobola piped scheme',\n",
       " 'LAMP water Supplying',\n",
       " 'Mahuta Scheme',\n",
       " 'Itunun',\n",
       " 'Msemembo water supply',\n",
       " 'Mkalama Water supply',\n",
       " 'Msaginya',\n",
       " 'Utaruni pipeline',\n",
       " 'Mateng',\n",
       " 'Iwumbu',\n",
       " 'KINAPA',\n",
       " 'Bujara water supp',\n",
       " 'Mradi wa maji wa chanj',\n",
       " 'Mwabalebi village water pipe scheme',\n",
       " 'BL Serengeti',\n",
       " 'WAUSA',\n",
       " 'World food program',\n",
       " 'Kitumb',\n",
       " 'Ndulam',\n",
       " 'Mradi wa maji wa wino',\n",
       " 'Mradi wa maji  Kadas',\n",
       " \"Kiparang'anda Water Supply\",\n",
       " 'Windmili system',\n",
       " 'Rura',\n",
       " 'mazinde water  suppl',\n",
       " 'Pote',\n",
       " 'Mradi wa maji wa isevya',\n",
       " 'Me',\n",
       " 'Senashida water supply',\n",
       " 'ENDAYAYA WATER SUPPLY',\n",
       " 'Pamila water project',\n",
       " 'Kiholo',\n",
       " 'Kaserebuka Water Supply',\n",
       " 'KIBUWA',\n",
       " 'Mradi wa maji shirati',\n",
       " 'Mazinde ngua water s',\n",
       " 'World banks water supplying',\n",
       " 'Lema water supplied scheme',\n",
       " 'Rural water supply',\n",
       " 'Mradi wa maji wa magagura',\n",
       " 'Mradi wa maji wa mbinga mh',\n",
       " 'Mgama',\n",
       " 'Mpun',\n",
       " 'Koronani Borehole',\n",
       " 'Mlowa',\n",
       " 'Madiha',\n",
       " 'Maili Sita',\n",
       " 'Lufumb',\n",
       " 'Kizingu',\n",
       " 'Vuje Water Supply',\n",
       " 'Lowasa pipe scheme',\n",
       " 'Chanyangabwa wate',\n",
       " 'Sanjaranda water supply',\n",
       " 'Mradi wa Mission',\n",
       " 'Kuut',\n",
       " 'WD and ID',\n",
       " 'Ruz',\n",
       " 'Mallama',\n",
       " 'Kasota',\n",
       " 'Ibiki gravity water scheme',\n",
       " 'Mbawala chini water supply',\n",
       " 'Ulanda',\n",
       " 'Chipuputa',\n",
       " 'Wekule',\n",
       " 'A',\n",
       " 'Nrashu gravity water supply',\n",
       " 'Kiba',\n",
       " 'Ipande water supply',\n",
       " 'Lima gravity water supply',\n",
       " 'Bere',\n",
       " 'Ngasamo Water Supply',\n",
       " 'Kwa Sondro water supply',\n",
       " 'Kastamu water supply',\n",
       " 'sakalenga water supply sche',\n",
       " 'Kandawale Water supply',\n",
       " 'Maleut',\n",
       " 'Kway',\n",
       " 'Mwazye water supply',\n",
       " 'Olumuro pipe scheme',\n",
       " 'Atta',\n",
       " 'Mongwa r',\n",
       " 'Ms',\n",
       " \"Ng'au\",\n",
       " 'Utanzi',\n",
       " 'Mukabuye gravity water supply',\n",
       " 'Jongoo',\n",
       " 'Kabingo/kiobela gravity  water supply',\n",
       " 'Handeni water suply',\n",
       " 'Mbakwe water supply',\n",
       " 'Mwangwe',\n",
       " 'Solo',\n",
       " 'BL Kimaroroni',\n",
       " 'BL Mkombozi',\n",
       " 'Mission',\n",
       " 'Tank fupi Mwenge',\n",
       " 'Kino',\n",
       " 'Kamwanga Erikaswa water pr',\n",
       " 'Kwamazandu water sup',\n",
       " 'Kalenge',\n",
       " 'Mpal',\n",
       " 'Rondo Water Supply',\n",
       " 'Mvango Water Supply',\n",
       " 'Kishiha',\n",
       " 'Gumb',\n",
       " 'BL Makiwaru',\n",
       " 'Murukoli spring source',\n",
       " 'Nyakonga piped Water  suplly',\n",
       " 'Mwendakulima pipe',\n",
       " 'Loliondo secondary scheme',\n",
       " 'Mradi wa maji wa mjimwema',\n",
       " 'Pipe scheme',\n",
       " 'Orkesumeti pipe scheme',\n",
       " 'mtikanga supply scheme',\n",
       " 'Shidere mrimasha water supply',\n",
       " 'Sokoni II pipe line',\n",
       " 'Mahuta',\n",
       " 'Kadashi Water Supply',\n",
       " 'Chimbendenga',\n",
       " 'Idif',\n",
       " 'Kwemishiwi water sup',\n",
       " 'Mshi',\n",
       " 'Riv',\n",
       " 'Maranje water supply',\n",
       " 'Rural water supply &sanitation  program',\n",
       " 'Mwongolele water project',\n",
       " 'Mott',\n",
       " 'Lutende Scheme',\n",
       " 'ngamanga  water supplied sc',\n",
       " 'Tubu',\n",
       " 'Many',\n",
       " 'Kasanda solar pumping water supply',\n",
       " 'Mkasale/Mkotamo Water Supply',\n",
       " 'kidewa',\n",
       " 'Chil',\n",
       " 'Mufisi',\n",
       " 'Mvum',\n",
       " 'Mlingotini wa',\n",
       " 'Ruvu Juu',\n",
       " 'Isikizya water supply',\n",
       " 'Mgowel',\n",
       " 'Mche',\n",
       " 'JUWAMASU',\n",
       " 'DED',\n",
       " 'Luka',\n",
       " 'Tiflo masaki branch line',\n",
       " 'Ikola water supply',\n",
       " 'Misigyo pipelines',\n",
       " 'Kilimarondo',\n",
       " 'Mang`o',\n",
       " 'Mba',\n",
       " 'Mradi wa maji wa matan',\n",
       " 'Makiba pumping water supply',\n",
       " 'Chib',\n",
       " 'Longido water Supply',\n",
       " 'Bwiti gravity water',\n",
       " 'Rain water harvesting',\n",
       " 'P',\n",
       " 'Mahurunga water supply',\n",
       " \"Lerang'wa water\",\n",
       " 'Merali Line',\n",
       " 'Jumuhiya ya watumia maji',\n",
       " 'image water supply scheme',\n",
       " 'Welela Shallow well',\n",
       " 'Kumsasa  spring source',\n",
       " 'Gale water supply',\n",
       " 'Tingi water supply',\n",
       " 'Mgun',\n",
       " 'UNUA piped scheme',\n",
       " 'Ilolangulu water supply',\n",
       " 'Mwembe Water Supply',\n",
       " 'Kidu',\n",
       " 'Isapul',\n",
       " 'Mbimbi water gravity scheme',\n",
       " 'Mtangashari',\n",
       " 'Kishuro water sup',\n",
       " 'Arisi/himo',\n",
       " 'Zigi',\n",
       " 'Ndimira water supply',\n",
       " 'Saibala gravity water supply',\n",
       " 'Lihimalyao water supply',\n",
       " 'Mzinga r',\n",
       " 'Utweve',\n",
       " 'Kagenyi water sup',\n",
       " 'BL Kitahemo',\n",
       " 'Bwambo Water Supply',\n",
       " 'Njomlole water gravity scheme',\n",
       " 'Sauwasa water supply',\n",
       " 'Tagame',\n",
       " 'Matala pipeline',\n",
       " 'Gedamar water supply',\n",
       " 'Marera water supply',\n",
       " 'Kilesi water supply',\n",
       " 'Maka',\n",
       " 'Kolo',\n",
       " 'Kiroriko water supply',\n",
       " 'Malambo water scheme',\n",
       " 'Muungano',\n",
       " 'BL Nshere Juu',\n",
       " 'Mkata ri',\n",
       " 'Vunta water supply',\n",
       " 'Luwamakaa branch line',\n",
       " 'Msjimingi',\n",
       " 'Kitowo',\n",
       " 'BL Zahanati',\n",
       " 'Ichonde',\n",
       " 'Kashishi water supply',\n",
       " 'EKTM 2 water suply',\n",
       " 'Nyamasenene Water Supply',\n",
       " 'Rumashi gravity water supply',\n",
       " 'BL Sanya Hoi',\n",
       " 'Mangola pipe scheme',\n",
       " 'Chol',\n",
       " 'Kaguruka Water Supply',\n",
       " 'Mradi wa maji Kowak',\n",
       " 'Ibih',\n",
       " 'Mban',\n",
       " 'TM part Three water supply',\n",
       " 'Kabaheshi pring source',\n",
       " 'Makiyui stream',\n",
       " ...]"
      ]
     },
     "execution_count": 6,
     "metadata": {},
     "output_type": "execute_result"
    }
   ],
   "source": [
    "list(df_preds['scheme_name'].unique())"
   ]
  },
  {
   "cell_type": "code",
   "execution_count": 7,
   "metadata": {},
   "outputs": [
    {
     "data": {
      "text/plain": [
       "(59400, 42)"
      ]
     },
     "execution_count": 7,
     "metadata": {},
     "output_type": "execute_result"
    }
   ],
   "source": [
    "merged_data['scheme_name']=merged_data['scheme_name'].fillna('no_scheme')\n",
    "merged_data.shape"
   ]
  },
  {
   "cell_type": "code",
   "execution_count": 8,
   "metadata": {},
   "outputs": [
    {
     "name": "stdout",
     "output_type": "stream",
     "text": [
      "id                          0\n",
      "amount_tsh                  0\n",
      "date_recorded               0\n",
      "funder                   3635\n",
      "gps_height                  0\n",
      "installer                3655\n",
      "longitude                   0\n",
      "latitude                    0\n",
      "wpt_name                    0\n",
      "num_private                 0\n",
      "basin                       0\n",
      "subvillage                371\n",
      "region                      0\n",
      "region_code                 0\n",
      "district_code               0\n",
      "lga                         0\n",
      "ward                        0\n",
      "population                  0\n",
      "public_meeting           3334\n",
      "recorded_by                 0\n",
      "scheme_management        3877\n",
      "scheme_name                 0\n",
      "permit                   3056\n",
      "construction_year           0\n",
      "extraction_type             0\n",
      "extraction_type_group       0\n",
      "extraction_type_class       0\n",
      "management                  0\n",
      "management_group            0\n",
      "payment                     0\n",
      "payment_type                0\n",
      "water_quality               0\n",
      "quality_group               0\n",
      "quantity                    0\n",
      "quantity_group              0\n",
      "source                      0\n",
      "source_type                 0\n",
      "source_class                0\n",
      "waterpoint_type             0\n",
      "waterpoint_type_group       0\n",
      "id                          0\n",
      "status_group                0\n",
      "dtype: int64\n"
     ]
    }
   ],
   "source": [
    "print(merged_data.isna().sum())"
   ]
  },
  {
   "cell_type": "markdown",
   "metadata": {},
   "source": [
    "the smaller around 4k values we can get rid off it should not mess up the distrbution"
   ]
  },
  {
   "cell_type": "code",
   "execution_count": 9,
   "metadata": {},
   "outputs": [],
   "source": [
    "merged_data.dropna(inplace=True)\n",
    "merged_data.drop(['id','longitude','latitude','waterpoint_type_group','num_private','region_code','recorded_by','scheme_name','subvillage','quantity_group','source_class','source_type','lga','payment','payment_type','management_group','ward','extraction_type_group','extraction_type_class','quality_group','date_recorded','wpt_name'],axis=1,inplace=True)"
   ]
  },
  {
   "cell_type": "markdown",
   "metadata": {},
   "source": [
    "next line of code, just wanted to keep the logic as to why i got rid of some columns, jist many were repeat and some did not really have pertanent information for modeling"
   ]
  },
  {
   "cell_type": "markdown",
   "metadata": {},
   "source": [
    "seperating values based of datatype for dummy creation"
   ]
  },
  {
   "cell_type": "code",
   "execution_count": 11,
   "metadata": {},
   "outputs": [
    {
     "data": {
      "text/plain": [
       "amount_tsh           float64\n",
       "funder                object\n",
       "gps_height             int64\n",
       "installer             object\n",
       "basin                 object\n",
       "region                object\n",
       "district_code          int64\n",
       "population             int64\n",
       "public_meeting        object\n",
       "scheme_management     object\n",
       "permit                object\n",
       "construction_year      int64\n",
       "extraction_type       object\n",
       "management            object\n",
       "water_quality         object\n",
       "quantity              object\n",
       "source                object\n",
       "waterpoint_type       object\n",
       "status_group          object\n",
       "dtype: object"
      ]
     },
     "execution_count": 11,
     "metadata": {},
     "output_type": "execute_result"
    }
   ],
   "source": [
    "merged_data.dtypes"
   ]
  },
  {
   "cell_type": "code",
   "execution_count": 12,
   "metadata": {},
   "outputs": [
    {
     "data": {
      "text/html": [
       "<div>\n",
       "<style scoped>\n",
       "    .dataframe tbody tr th:only-of-type {\n",
       "        vertical-align: middle;\n",
       "    }\n",
       "\n",
       "    .dataframe tbody tr th {\n",
       "        vertical-align: top;\n",
       "    }\n",
       "\n",
       "    .dataframe thead th {\n",
       "        text-align: right;\n",
       "    }\n",
       "</style>\n",
       "<table border=\"1\" class=\"dataframe\">\n",
       "  <thead>\n",
       "    <tr style=\"text-align: right;\">\n",
       "      <th></th>\n",
       "      <th>amount_tsh</th>\n",
       "      <th>gps_height</th>\n",
       "      <th>district_code</th>\n",
       "      <th>population</th>\n",
       "      <th>construction_year</th>\n",
       "    </tr>\n",
       "  </thead>\n",
       "  <tbody>\n",
       "    <tr>\n",
       "      <th>0</th>\n",
       "      <td>6000.0</td>\n",
       "      <td>1390</td>\n",
       "      <td>5</td>\n",
       "      <td>109</td>\n",
       "      <td>1999</td>\n",
       "    </tr>\n",
       "    <tr>\n",
       "      <th>2</th>\n",
       "      <td>25.0</td>\n",
       "      <td>686</td>\n",
       "      <td>4</td>\n",
       "      <td>250</td>\n",
       "      <td>2009</td>\n",
       "    </tr>\n",
       "    <tr>\n",
       "      <th>3</th>\n",
       "      <td>0.0</td>\n",
       "      <td>263</td>\n",
       "      <td>63</td>\n",
       "      <td>58</td>\n",
       "      <td>1986</td>\n",
       "    </tr>\n",
       "    <tr>\n",
       "      <th>5</th>\n",
       "      <td>20.0</td>\n",
       "      <td>0</td>\n",
       "      <td>8</td>\n",
       "      <td>1</td>\n",
       "      <td>2009</td>\n",
       "    </tr>\n",
       "    <tr>\n",
       "      <th>6</th>\n",
       "      <td>0.0</td>\n",
       "      <td>0</td>\n",
       "      <td>3</td>\n",
       "      <td>0</td>\n",
       "      <td>0</td>\n",
       "    </tr>\n",
       "    <tr>\n",
       "      <th>...</th>\n",
       "      <td>...</td>\n",
       "      <td>...</td>\n",
       "      <td>...</td>\n",
       "      <td>...</td>\n",
       "      <td>...</td>\n",
       "    </tr>\n",
       "    <tr>\n",
       "      <th>59394</th>\n",
       "      <td>500.0</td>\n",
       "      <td>351</td>\n",
       "      <td>6</td>\n",
       "      <td>89</td>\n",
       "      <td>2007</td>\n",
       "    </tr>\n",
       "    <tr>\n",
       "      <th>59395</th>\n",
       "      <td>10.0</td>\n",
       "      <td>1210</td>\n",
       "      <td>5</td>\n",
       "      <td>125</td>\n",
       "      <td>1999</td>\n",
       "    </tr>\n",
       "    <tr>\n",
       "      <th>59396</th>\n",
       "      <td>4700.0</td>\n",
       "      <td>1212</td>\n",
       "      <td>4</td>\n",
       "      <td>56</td>\n",
       "      <td>1996</td>\n",
       "    </tr>\n",
       "    <tr>\n",
       "      <th>59398</th>\n",
       "      <td>0.0</td>\n",
       "      <td>0</td>\n",
       "      <td>4</td>\n",
       "      <td>0</td>\n",
       "      <td>0</td>\n",
       "    </tr>\n",
       "    <tr>\n",
       "      <th>59399</th>\n",
       "      <td>0.0</td>\n",
       "      <td>191</td>\n",
       "      <td>2</td>\n",
       "      <td>150</td>\n",
       "      <td>2002</td>\n",
       "    </tr>\n",
       "  </tbody>\n",
       "</table>\n",
       "<p>48288 rows × 5 columns</p>\n",
       "</div>"
      ],
      "text/plain": [
       "       amount_tsh  gps_height  district_code  population  construction_year\n",
       "0          6000.0        1390              5         109               1999\n",
       "2            25.0         686              4         250               2009\n",
       "3             0.0         263             63          58               1986\n",
       "5            20.0           0              8           1               2009\n",
       "6             0.0           0              3           0                  0\n",
       "...           ...         ...            ...         ...                ...\n",
       "59394       500.0         351              6          89               2007\n",
       "59395        10.0        1210              5         125               1999\n",
       "59396      4700.0        1212              4          56               1996\n",
       "59398         0.0           0              4           0                  0\n",
       "59399         0.0         191              2         150               2002\n",
       "\n",
       "[48288 rows x 5 columns]"
      ]
     },
     "execution_count": 12,
     "metadata": {},
     "output_type": "execute_result"
    }
   ],
   "source": [
    "start_x=merged_data.drop('status_group',axis=1)\n",
    "start_y=merged_data['status_group']\n",
    "\n",
    "numb_col_only=merged_data.select_dtypes(include=[np.number]).columns\n",
    "ob_col_only=merged_data.select_dtypes(include=[np.object]).columns\n",
    "\n",
    "start_x2=start_x.select_dtypes(include=[np.number]).columns\n",
    "start_y2=merged_data.select_dtypes(include=[np.object]).columns\n",
    "\n",
    "start_x.drop(ob_col_only[:-1],axis=1)"
   ]
  },
  {
   "cell_type": "markdown",
   "metadata": {},
   "source": [
    "## checking for distributions"
   ]
  },
  {
   "cell_type": "markdown",
   "metadata": {},
   "source": [
    "### by construction year"
   ]
  },
  {
   "cell_type": "code",
   "execution_count": 14,
   "metadata": {},
   "outputs": [
    {
     "data": {
      "text/plain": [
       "<AxesSubplot:xlabel='construction_year'>"
      ]
     },
     "execution_count": 14,
     "metadata": {},
     "output_type": "execute_result"
    },
    {
     "data": {
      "image/png": "[encoded data removed]",
      "text/plain": [
       "<Figure size 1440x1440 with 1 Axes>"
      ]
     },
     "metadata": {
      "needs_background": "light"
     },
     "output_type": "display_data"
    }
   ],
   "source": [
    "merged_data.groupby(['construction_year','status_group']).size().unstack()[:100].plot(kind='bar', stacked=True,figsize=(20,20))"
   ]
  },
  {
   "cell_type": "markdown",
   "metadata": {},
   "source": [
    "### by the funder"
   ]
  },
  {
   "cell_type": "code",
   "execution_count": 15,
   "metadata": {},
   "outputs": [
    {
     "data": {
      "text/plain": [
       "<AxesSubplot:xlabel='funder'>"
      ]
     },
     "execution_count": 15,
     "metadata": {},
     "output_type": "execute_result"
    },
    {
     "data": {
      "image/png": "[encoded data removed]",
      "text/plain": [
       "<Figure size 1440x1440 with 1 Axes>"
      ]
     },
     "metadata": {
      "needs_background": "light"
     },
     "output_type": "display_data"
    }
   ],
   "source": [
    "merged_data.groupby(['funder','status_group']).size().unstack().sort_values(by=['functional','non functional'],ascending=False)[:100].plot(kind='bar', stacked=True,figsize=(20,20))"
   ]
  },
  {
   "cell_type": "code",
   "execution_count": 16,
   "metadata": {},
   "outputs": [
    {
     "data": {
      "text/plain": [
       "<AxesSubplot:xlabel='funder'>"
      ]
     },
     "execution_count": 16,
     "metadata": {},
     "output_type": "execute_result"
    },
    {
     "data": {
      "image/png": "[encoded data removed]",
      "text/plain": [
       "<Figure size 1440x1440 with 1 Axes>"
      ]
     },
     "metadata": {
      "needs_background": "light"
     },
     "output_type": "display_data"
    }
   ],
   "source": [
    "merged_data.groupby(['funder','status_group']).size().unstack().sort_values(by=['functional','non functional'],ascending=False)[:50].plot(kind='bar',figsize=(20,20))"
   ]
  },
  {
   "cell_type": "code",
   "execution_count": 21,
   "metadata": {
    "scrolled": true
   },
   "outputs": [
    {
     "data": {
      "text/html": [
       "<div>\n",
       "<style scoped>\n",
       "    .dataframe tbody tr th:only-of-type {\n",
       "        vertical-align: middle;\n",
       "    }\n",
       "\n",
       "    .dataframe tbody tr th {\n",
       "        vertical-align: top;\n",
       "    }\n",
       "\n",
       "    .dataframe thead th {\n",
       "        text-align: right;\n",
       "    }\n",
       "</style>\n",
       "<table border=\"1\" class=\"dataframe\">\n",
       "  <thead>\n",
       "    <tr style=\"text-align: right;\">\n",
       "      <th></th>\n",
       "      <th>amount_tsh</th>\n",
       "    </tr>\n",
       "    <tr>\n",
       "      <th>status_group</th>\n",
       "      <th></th>\n",
       "    </tr>\n",
       "  </thead>\n",
       "  <tbody>\n",
       "    <tr>\n",
       "      <th>functional</th>\n",
       "      <td>26517</td>\n",
       "    </tr>\n",
       "    <tr>\n",
       "      <th>functional needs repair</th>\n",
       "      <td>3498</td>\n",
       "    </tr>\n",
       "    <tr>\n",
       "      <th>non functional</th>\n",
       "      <td>18273</td>\n",
       "    </tr>\n",
       "  </tbody>\n",
       "</table>\n",
       "</div>"
      ],
      "text/plain": [
       "                         amount_tsh\n",
       "status_group                       \n",
       "functional                    26517\n",
       "functional needs repair        3498\n",
       "non functional                18273"
      ]
     },
     "execution_count": 21,
     "metadata": {},
     "output_type": "execute_result"
    }
   ],
   "source": [
    "merged_data.groupby(by=['status_group']).count().iloc[:3,:1]"
   ]
  },
  {
   "cell_type": "markdown",
   "metadata": {},
   "source": [
    "### for loop of box plots"
   ]
  },
  {
   "cell_type": "code",
   "execution_count": 22,
   "metadata": {
    "scrolled": true
   },
   "outputs": [
    {
     "data": {
      "image/png": "[encoded data removed]",
      "text/plain": [
       "<Figure size 720x504 with 1 Axes>"
      ]
     },
     "metadata": {
      "needs_background": "light"
     },
     "output_type": "display_data"
    },
    {
     "data": {
      "image/png": "[encoded data removed]",
      "text/plain": [
       "<Figure size 432x288 with 1 Axes>"
      ]
     },
     "metadata": {
      "needs_background": "light"
     },
     "output_type": "display_data"
    },
    {
     "data": {
      "image/png": "[encoded data removed]",
      "text/plain": [
       "<Figure size 432x288 with 1 Axes>"
      ]
     },
     "metadata": {
      "needs_background": "light"
     },
     "output_type": "display_data"
    },
    {
     "data": {
      "image/png": "[encoded data removed]",
      "text/plain": [
       "<Figure size 432x288 with 1 Axes>"
      ]
     },
     "metadata": {
      "needs_background": "light"
     },
     "output_type": "display_data"
    },
    {
     "data": {
      "image/png": "[encoded data removed]",
      "text/plain": [
       "<Figure size 432x288 with 1 Axes>"
      ]
     },
     "metadata": {
      "needs_background": "light"
     },
     "output_type": "display_data"
    }
   ],
   "source": [
    "figbox= plt.figure(figsize=(10,7))\n",
    "\n",
    "for item in numb_col_only:\n",
    "    plt.boxplot(merged_data[item],showfliers=False)\n",
    "    plt.title(item)\n",
    "    plt.show()"
   ]
  },
  {
   "cell_type": "markdown",
   "metadata": {},
   "source": [
    "getting rid of the outlier in construction year since so many are read as 0 to get a better"
   ]
  },
  {
   "cell_type": "code",
   "execution_count": null,
   "metadata": {},
   "outputs": [],
   "source": [
    "pd.DataFrame(merged_data['construction_year'][merged_data['construction_year']>10]).boxplot()"
   ]
  },
  {
   "cell_type": "markdown",
   "metadata": {},
   "source": [
    "### for loop of hist plots"
   ]
  },
  {
   "cell_type": "code",
   "execution_count": 23,
   "metadata": {},
   "outputs": [
    {
     "name": "stdout",
     "output_type": "stream",
     "text": [
      "amount_tsh\n"
     ]
    },
    {
     "data": {
      "image/png": "[encoded data removed]",
      "text/plain": [
       "<Figure size 720x504 with 1 Axes>"
      ]
     },
     "metadata": {
      "needs_background": "light"
     },
     "output_type": "display_data"
    },
    {
     "name": "stdout",
     "output_type": "stream",
     "text": [
      "gps_height\n"
     ]
    },
    {
     "data": {
      "image/png": "[encoded data removed]",
      "text/plain": [
       "<Figure size 432x288 with 1 Axes>"
      ]
     },
     "metadata": {
      "needs_background": "light"
     },
     "output_type": "display_data"
    },
    {
     "name": "stdout",
     "output_type": "stream",
     "text": [
      "district_code\n"
     ]
    },
    {
     "data": {
      "image/png": "[encoded data removed]",
      "text/plain": [
       "<Figure size 432x288 with 1 Axes>"
      ]
     },
     "metadata": {
      "needs_background": "light"
     },
     "output_type": "display_data"
    },
    {
     "name": "stdout",
     "output_type": "stream",
     "text": [
      "population\n"
     ]
    },
    {
     "data": {
      "image/png": "[encoded data removed]",
      "text/plain": [
       "<Figure size 432x288 with 1 Axes>"
      ]
     },
     "metadata": {
      "needs_background": "light"
     },
     "output_type": "display_data"
    },
    {
     "name": "stdout",
     "output_type": "stream",
     "text": [
      "construction_year\n"
     ]
    },
    {
     "data": {
      "image/png": "[encoded data removed]",
      "text/plain": [
       "<Figure size 432x288 with 1 Axes>"
      ]
     },
     "metadata": {
      "needs_background": "light"
     },
     "output_type": "display_data"
    }
   ],
   "source": [
    "\n",
    "figbox= plt.figure(figsize=(10,7))\n",
    "\n",
    "for item in numb_col_only:\n",
    "    print(item)\n",
    "    plt.hist(start_x[item],bins=100)\n",
    "    plt.title(item)\n",
    "    plt.show()"
   ]
  },
  {
   "cell_type": "markdown",
   "metadata": {},
   "source": [
    "### specific to year"
   ]
  },
  {
   "cell_type": "code",
   "execution_count": 24,
   "metadata": {},
   "outputs": [
    {
     "data": {
      "text/plain": [
       "Text(0.5, 1.0, 'construction_year')"
      ]
     },
     "execution_count": 24,
     "metadata": {},
     "output_type": "execute_result"
    },
    {
     "data": {
      "image/png": "[encoded data removed]",
      "text/plain": [
       "<Figure size 432x288 with 1 Axes>"
      ]
     },
     "metadata": {
      "needs_background": "light"
     },
     "output_type": "display_data"
    }
   ],
   "source": [
    "merged_data['construction_year'][merged_data['construction_year']>=10].hist()\n",
    "plt.title('construction_year')"
   ]
  },
  {
   "cell_type": "code",
   "execution_count": 25,
   "metadata": {},
   "outputs": [
    {
     "data": {
      "text/plain": [
       "<AxesSubplot:>"
      ]
     },
     "execution_count": 25,
     "metadata": {},
     "output_type": "execute_result"
    },
    {
     "data": {
      "image/png": "[encoded data removed]",
      "text/plain": [
       "<Figure size 432x288 with 1 Axes>"
      ]
     },
     "metadata": {
      "needs_background": "light"
     },
     "output_type": "display_data"
    }
   ],
   "source": [
    "pd.DataFrame(merged_data['construction_year'][merged_data['construction_year']>10]).boxplot()"
   ]
  },
  {
   "cell_type": "code",
   "execution_count": 26,
   "metadata": {},
   "outputs": [
    {
     "data": {
      "text/plain": [
       "<AxesSubplot:xlabel='construction_year', ylabel='Count'>"
      ]
     },
     "execution_count": 26,
     "metadata": {},
     "output_type": "execute_result"
    },
    {
     "data": {
      "image/png": "[encoded data removed]",
      "text/plain": [
       "<Figure size 432x288 with 1 Axes>"
      ]
     },
     "metadata": {
      "needs_background": "light"
     },
     "output_type": "display_data"
    }
   ],
   "source": [
    "sns.histplot(data=merged_data[merged_data['construction_year']>10],x='construction_year',hue='status_group')"
   ]
  },
  {
   "cell_type": "code",
   "execution_count": 27,
   "metadata": {},
   "outputs": [
    {
     "data": {
      "text/plain": [
       "<AxesSubplot:xlabel='installer'>"
      ]
     },
     "execution_count": 27,
     "metadata": {},
     "output_type": "execute_result"
    },
    {
     "data": {
      "image/png": "[encoded data removed]",
      "text/plain": [
       "<Figure size 1440x1440 with 1 Axes>"
      ]
     },
     "metadata": {
      "needs_background": "light"
     },
     "output_type": "display_data"
    }
   ],
   "source": [
    "merged_data.groupby(['installer','status_group']).size().unstack().sort_values(by=['non functional','functional'],ascending=False)[:100].plot(kind='bar', stacked=True,figsize=(20,20))"
   ]
  },
  {
   "cell_type": "markdown",
   "metadata": {},
   "source": [
    "just a count by builder just to see who is responcible for building, can take a better look later for inferance "
   ]
  },
  {
   "cell_type": "markdown",
   "metadata": {},
   "source": [
    "a better  look at population data"
   ]
  },
  {
   "cell_type": "code",
   "execution_count": 29,
   "metadata": {
    "scrolled": true
   },
   "outputs": [
    {
     "data": {
      "text/plain": [
       "population    176.683048\n",
       "dtype: float64"
      ]
     },
     "execution_count": 29,
     "metadata": {},
     "output_type": "execute_result"
    }
   ],
   "source": [
    "pd.DataFrame(merged_data['population']).sort_values(by='population',ascending=False).mean()"
   ]
  },
  {
   "cell_type": "code",
   "execution_count": 30,
   "metadata": {},
   "outputs": [
    {
     "data": {
      "text/html": [
       "<div>\n",
       "<style scoped>\n",
       "    .dataframe tbody tr th:only-of-type {\n",
       "        vertical-align: middle;\n",
       "    }\n",
       "\n",
       "    .dataframe tbody tr th {\n",
       "        vertical-align: top;\n",
       "    }\n",
       "\n",
       "    .dataframe thead th {\n",
       "        text-align: right;\n",
       "    }\n",
       "</style>\n",
       "<table border=\"1\" class=\"dataframe\">\n",
       "  <thead>\n",
       "    <tr style=\"text-align: right;\">\n",
       "      <th></th>\n",
       "      <th>population</th>\n",
       "    </tr>\n",
       "  </thead>\n",
       "  <tbody>\n",
       "    <tr>\n",
       "      <th>30537</th>\n",
       "      <td>30500</td>\n",
       "    </tr>\n",
       "    <tr>\n",
       "      <th>14308</th>\n",
       "      <td>15300</td>\n",
       "    </tr>\n",
       "    <tr>\n",
       "      <th>51398</th>\n",
       "      <td>11463</td>\n",
       "    </tr>\n",
       "    <tr>\n",
       "      <th>31363</th>\n",
       "      <td>10000</td>\n",
       "    </tr>\n",
       "    <tr>\n",
       "      <th>12784</th>\n",
       "      <td>9865</td>\n",
       "    </tr>\n",
       "    <tr>\n",
       "      <th>...</th>\n",
       "      <td>...</td>\n",
       "    </tr>\n",
       "    <tr>\n",
       "      <th>40226</th>\n",
       "      <td>5000</td>\n",
       "    </tr>\n",
       "    <tr>\n",
       "      <th>40199</th>\n",
       "      <td>5000</td>\n",
       "    </tr>\n",
       "    <tr>\n",
       "      <th>14001</th>\n",
       "      <td>5000</td>\n",
       "    </tr>\n",
       "    <tr>\n",
       "      <th>27088</th>\n",
       "      <td>5000</td>\n",
       "    </tr>\n",
       "    <tr>\n",
       "      <th>36649</th>\n",
       "      <td>5000</td>\n",
       "    </tr>\n",
       "  </tbody>\n",
       "</table>\n",
       "<p>100 rows × 1 columns</p>\n",
       "</div>"
      ],
      "text/plain": [
       "       population\n",
       "30537       30500\n",
       "14308       15300\n",
       "51398       11463\n",
       "31363       10000\n",
       "12784        9865\n",
       "...           ...\n",
       "40226        5000\n",
       "40199        5000\n",
       "14001        5000\n",
       "27088        5000\n",
       "36649        5000\n",
       "\n",
       "[100 rows x 1 columns]"
      ]
     },
     "execution_count": 30,
     "metadata": {},
     "output_type": "execute_result"
    }
   ],
   "source": [
    "pd.DataFrame(merged_data['population']).sort_values(by='population',ascending=False)[:100]"
   ]
  },
  {
   "cell_type": "code",
   "execution_count": 31,
   "metadata": {},
   "outputs": [
    {
     "data": {
      "text/html": [
       "<div>\n",
       "<style scoped>\n",
       "    .dataframe tbody tr th:only-of-type {\n",
       "        vertical-align: middle;\n",
       "    }\n",
       "\n",
       "    .dataframe tbody tr th {\n",
       "        vertical-align: top;\n",
       "    }\n",
       "\n",
       "    .dataframe thead th {\n",
       "        text-align: right;\n",
       "    }\n",
       "</style>\n",
       "<table border=\"1\" class=\"dataframe\">\n",
       "  <thead>\n",
       "    <tr style=\"text-align: right;\">\n",
       "      <th></th>\n",
       "      <th>population</th>\n",
       "    </tr>\n",
       "  </thead>\n",
       "  <tbody>\n",
       "    <tr>\n",
       "      <th>count</th>\n",
       "      <td>48288.000000</td>\n",
       "    </tr>\n",
       "    <tr>\n",
       "      <th>mean</th>\n",
       "      <td>176.683048</td>\n",
       "    </tr>\n",
       "    <tr>\n",
       "      <th>std</th>\n",
       "      <td>472.505399</td>\n",
       "    </tr>\n",
       "    <tr>\n",
       "      <th>min</th>\n",
       "      <td>0.000000</td>\n",
       "    </tr>\n",
       "    <tr>\n",
       "      <th>25%</th>\n",
       "      <td>0.000000</td>\n",
       "    </tr>\n",
       "    <tr>\n",
       "      <th>50%</th>\n",
       "      <td>30.000000</td>\n",
       "    </tr>\n",
       "    <tr>\n",
       "      <th>75%</th>\n",
       "      <td>200.000000</td>\n",
       "    </tr>\n",
       "    <tr>\n",
       "      <th>max</th>\n",
       "      <td>30500.000000</td>\n",
       "    </tr>\n",
       "  </tbody>\n",
       "</table>\n",
       "</div>"
      ],
      "text/plain": [
       "         population\n",
       "count  48288.000000\n",
       "mean     176.683048\n",
       "std      472.505399\n",
       "min        0.000000\n",
       "25%        0.000000\n",
       "50%       30.000000\n",
       "75%      200.000000\n",
       "max    30500.000000"
      ]
     },
     "execution_count": 31,
     "metadata": {},
     "output_type": "execute_result"
    }
   ],
   "source": [
    "pd.DataFrame(merged_data['population']).sort_values(by='population',ascending=False).describe()"
   ]
  },
  {
   "cell_type": "code",
   "execution_count": 32,
   "metadata": {},
   "outputs": [
    {
     "data": {
      "text/plain": [
       "<AxesSubplot:>"
      ]
     },
     "execution_count": 32,
     "metadata": {},
     "output_type": "execute_result"
    },
    {
     "data": {
      "image/png": "[encoded data removed]",
      "text/plain": [
       "<Figure size 432x288 with 1 Axes>"
      ]
     },
     "metadata": {
      "needs_background": "light"
     },
     "output_type": "display_data"
    }
   ],
   "source": [
    "merged_data['water_quality'].value_counts().plot(kind='bar')"
   ]
  },
  {
   "cell_type": "code",
   "execution_count": 33,
   "metadata": {},
   "outputs": [
    {
     "data": {
      "image/png": "[encoded data removed]",
      "text/plain": [
       "<Figure size 1080x1080 with 1 Axes>"
      ]
     },
     "metadata": {
      "needs_background": "light"
     },
     "output_type": "display_data"
    }
   ],
   "source": [
    "fig = plt.figure(figsize = (15,15))\n",
    "sns.histplot(data=merged_data,x='source',hue='status_group')\n",
    "fig.tight_layout()\n",
    "plt.xticks(rotation='270')\n",
    "plt.show()"
   ]
  },
  {
   "cell_type": "code",
   "execution_count": 34,
   "metadata": {},
   "outputs": [
    {
     "name": "stdout",
     "output_type": "stream",
     "text": [
      "['spring' 'dam' 'machine dbh' 'other' 'shallow well' 'river' 'hand dtw'\n",
      " 'rainwater harvesting' 'lake' 'unknown']\n"
     ]
    },
    {
     "data": {
      "text/plain": [
       "<AxesSubplot:>"
      ]
     },
     "execution_count": 34,
     "metadata": {},
     "output_type": "execute_result"
    },
    {
     "data": {
      "image/png": "[encoded data removed]",
      "text/plain": [
       "<Figure size 432x288 with 1 Axes>"
      ]
     },
     "metadata": {
      "needs_background": "light"
     },
     "output_type": "display_data"
    }
   ],
   "source": [
    "print(merged_data['source'].unique())\n",
    "merged_data['source'].value_counts().plot(kind='bar')"
   ]
  },
  {
   "cell_type": "code",
   "execution_count": 35,
   "metadata": {},
   "outputs": [
    {
     "data": {
      "image/png": "[encoded data removed]",
      "text/plain": [
       "<Figure size 432x288 with 1 Axes>"
      ]
     },
     "metadata": {
      "needs_background": "light"
     },
     "output_type": "display_data"
    }
   ],
   "source": [
    "sns.histplot(data=merged_data,x='water_quality',hue='status_group')\n",
    "fig.tight_layout()\n",
    "plt.xticks(rotation='270')\n",
    "plt.show()"
   ]
  },
  {
   "cell_type": "markdown",
   "metadata": {},
   "source": [
    "# start modeling "
   ]
  },
  {
   "cell_type": "markdown",
   "metadata": {},
   "source": [
    "### TRANSFORM DATA"
   ]
  },
  {
   "cell_type": "code",
   "execution_count": 36,
   "metadata": {
    "scrolled": true
   },
   "outputs": [
    {
     "data": {
      "text/html": [
       "<div>\n",
       "<style scoped>\n",
       "    .dataframe tbody tr th:only-of-type {\n",
       "        vertical-align: middle;\n",
       "    }\n",
       "\n",
       "    .dataframe tbody tr th {\n",
       "        vertical-align: top;\n",
       "    }\n",
       "\n",
       "    .dataframe thead th {\n",
       "        text-align: right;\n",
       "    }\n",
       "</style>\n",
       "<table border=\"1\" class=\"dataframe\">\n",
       "  <thead>\n",
       "    <tr style=\"text-align: right;\">\n",
       "      <th></th>\n",
       "      <th>amount_tsh</th>\n",
       "      <th>funder</th>\n",
       "      <th>gps_height</th>\n",
       "      <th>installer</th>\n",
       "      <th>basin</th>\n",
       "      <th>region</th>\n",
       "      <th>district_code</th>\n",
       "      <th>population</th>\n",
       "      <th>public_meeting</th>\n",
       "      <th>scheme_management</th>\n",
       "      <th>permit</th>\n",
       "      <th>construction_year</th>\n",
       "      <th>extraction_type</th>\n",
       "      <th>management</th>\n",
       "      <th>water_quality</th>\n",
       "      <th>quantity</th>\n",
       "      <th>source</th>\n",
       "      <th>waterpoint_type</th>\n",
       "      <th>status_group</th>\n",
       "    </tr>\n",
       "  </thead>\n",
       "  <tbody>\n",
       "    <tr>\n",
       "      <th>0</th>\n",
       "      <td>6000.0</td>\n",
       "      <td>Roman</td>\n",
       "      <td>1390</td>\n",
       "      <td>Roman</td>\n",
       "      <td>Lake Nyasa</td>\n",
       "      <td>Iringa</td>\n",
       "      <td>5</td>\n",
       "      <td>109</td>\n",
       "      <td>True</td>\n",
       "      <td>VWC</td>\n",
       "      <td>False</td>\n",
       "      <td>1999</td>\n",
       "      <td>gravity</td>\n",
       "      <td>vwc</td>\n",
       "      <td>soft</td>\n",
       "      <td>enough</td>\n",
       "      <td>spring</td>\n",
       "      <td>communal standpipe</td>\n",
       "      <td>functional</td>\n",
       "    </tr>\n",
       "    <tr>\n",
       "      <th>2</th>\n",
       "      <td>25.0</td>\n",
       "      <td>Lottery Club</td>\n",
       "      <td>686</td>\n",
       "      <td>World vision</td>\n",
       "      <td>Pangani</td>\n",
       "      <td>Manyara</td>\n",
       "      <td>4</td>\n",
       "      <td>250</td>\n",
       "      <td>True</td>\n",
       "      <td>VWC</td>\n",
       "      <td>True</td>\n",
       "      <td>2009</td>\n",
       "      <td>gravity</td>\n",
       "      <td>vwc</td>\n",
       "      <td>soft</td>\n",
       "      <td>enough</td>\n",
       "      <td>dam</td>\n",
       "      <td>communal standpipe multiple</td>\n",
       "      <td>functional</td>\n",
       "    </tr>\n",
       "    <tr>\n",
       "      <th>3</th>\n",
       "      <td>0.0</td>\n",
       "      <td>Unicef</td>\n",
       "      <td>263</td>\n",
       "      <td>UNICEF</td>\n",
       "      <td>Ruvuma / Southern Coast</td>\n",
       "      <td>Mtwara</td>\n",
       "      <td>63</td>\n",
       "      <td>58</td>\n",
       "      <td>True</td>\n",
       "      <td>VWC</td>\n",
       "      <td>True</td>\n",
       "      <td>1986</td>\n",
       "      <td>submersible</td>\n",
       "      <td>vwc</td>\n",
       "      <td>soft</td>\n",
       "      <td>dry</td>\n",
       "      <td>machine dbh</td>\n",
       "      <td>communal standpipe multiple</td>\n",
       "      <td>non functional</td>\n",
       "    </tr>\n",
       "    <tr>\n",
       "      <th>5</th>\n",
       "      <td>20.0</td>\n",
       "      <td>Mkinga Distric Coun</td>\n",
       "      <td>0</td>\n",
       "      <td>DWE</td>\n",
       "      <td>Pangani</td>\n",
       "      <td>Tanga</td>\n",
       "      <td>8</td>\n",
       "      <td>1</td>\n",
       "      <td>True</td>\n",
       "      <td>VWC</td>\n",
       "      <td>True</td>\n",
       "      <td>2009</td>\n",
       "      <td>submersible</td>\n",
       "      <td>vwc</td>\n",
       "      <td>salty</td>\n",
       "      <td>enough</td>\n",
       "      <td>other</td>\n",
       "      <td>communal standpipe multiple</td>\n",
       "      <td>functional</td>\n",
       "    </tr>\n",
       "    <tr>\n",
       "      <th>6</th>\n",
       "      <td>0.0</td>\n",
       "      <td>Dwsp</td>\n",
       "      <td>0</td>\n",
       "      <td>DWSP</td>\n",
       "      <td>Internal</td>\n",
       "      <td>Shinyanga</td>\n",
       "      <td>3</td>\n",
       "      <td>0</td>\n",
       "      <td>True</td>\n",
       "      <td>VWC</td>\n",
       "      <td>True</td>\n",
       "      <td>0</td>\n",
       "      <td>swn 80</td>\n",
       "      <td>vwc</td>\n",
       "      <td>soft</td>\n",
       "      <td>enough</td>\n",
       "      <td>machine dbh</td>\n",
       "      <td>hand pump</td>\n",
       "      <td>non functional</td>\n",
       "    </tr>\n",
       "    <tr>\n",
       "      <th>...</th>\n",
       "      <td>...</td>\n",
       "      <td>...</td>\n",
       "      <td>...</td>\n",
       "      <td>...</td>\n",
       "      <td>...</td>\n",
       "      <td>...</td>\n",
       "      <td>...</td>\n",
       "      <td>...</td>\n",
       "      <td>...</td>\n",
       "      <td>...</td>\n",
       "      <td>...</td>\n",
       "      <td>...</td>\n",
       "      <td>...</td>\n",
       "      <td>...</td>\n",
       "      <td>...</td>\n",
       "      <td>...</td>\n",
       "      <td>...</td>\n",
       "      <td>...</td>\n",
       "      <td>...</td>\n",
       "    </tr>\n",
       "    <tr>\n",
       "      <th>59394</th>\n",
       "      <td>500.0</td>\n",
       "      <td>World Bank</td>\n",
       "      <td>351</td>\n",
       "      <td>ML appro</td>\n",
       "      <td>Wami / Ruvu</td>\n",
       "      <td>Morogoro</td>\n",
       "      <td>6</td>\n",
       "      <td>89</td>\n",
       "      <td>True</td>\n",
       "      <td>VWC</td>\n",
       "      <td>True</td>\n",
       "      <td>2007</td>\n",
       "      <td>submersible</td>\n",
       "      <td>vwc</td>\n",
       "      <td>soft</td>\n",
       "      <td>enough</td>\n",
       "      <td>machine dbh</td>\n",
       "      <td>communal standpipe</td>\n",
       "      <td>non functional</td>\n",
       "    </tr>\n",
       "    <tr>\n",
       "      <th>59395</th>\n",
       "      <td>10.0</td>\n",
       "      <td>Germany Republi</td>\n",
       "      <td>1210</td>\n",
       "      <td>CES</td>\n",
       "      <td>Pangani</td>\n",
       "      <td>Kilimanjaro</td>\n",
       "      <td>5</td>\n",
       "      <td>125</td>\n",
       "      <td>True</td>\n",
       "      <td>Water Board</td>\n",
       "      <td>True</td>\n",
       "      <td>1999</td>\n",
       "      <td>gravity</td>\n",
       "      <td>water board</td>\n",
       "      <td>soft</td>\n",
       "      <td>enough</td>\n",
       "      <td>spring</td>\n",
       "      <td>communal standpipe</td>\n",
       "      <td>functional</td>\n",
       "    </tr>\n",
       "    <tr>\n",
       "      <th>59396</th>\n",
       "      <td>4700.0</td>\n",
       "      <td>Cefa-njombe</td>\n",
       "      <td>1212</td>\n",
       "      <td>Cefa</td>\n",
       "      <td>Rufiji</td>\n",
       "      <td>Iringa</td>\n",
       "      <td>4</td>\n",
       "      <td>56</td>\n",
       "      <td>True</td>\n",
       "      <td>VWC</td>\n",
       "      <td>True</td>\n",
       "      <td>1996</td>\n",
       "      <td>gravity</td>\n",
       "      <td>vwc</td>\n",
       "      <td>soft</td>\n",
       "      <td>enough</td>\n",
       "      <td>river</td>\n",
       "      <td>communal standpipe</td>\n",
       "      <td>functional</td>\n",
       "    </tr>\n",
       "    <tr>\n",
       "      <th>59398</th>\n",
       "      <td>0.0</td>\n",
       "      <td>Malec</td>\n",
       "      <td>0</td>\n",
       "      <td>Musa</td>\n",
       "      <td>Rufiji</td>\n",
       "      <td>Dodoma</td>\n",
       "      <td>4</td>\n",
       "      <td>0</td>\n",
       "      <td>True</td>\n",
       "      <td>VWC</td>\n",
       "      <td>True</td>\n",
       "      <td>0</td>\n",
       "      <td>nira/tanira</td>\n",
       "      <td>vwc</td>\n",
       "      <td>soft</td>\n",
       "      <td>insufficient</td>\n",
       "      <td>shallow well</td>\n",
       "      <td>hand pump</td>\n",
       "      <td>functional</td>\n",
       "    </tr>\n",
       "    <tr>\n",
       "      <th>59399</th>\n",
       "      <td>0.0</td>\n",
       "      <td>World Bank</td>\n",
       "      <td>191</td>\n",
       "      <td>World</td>\n",
       "      <td>Wami / Ruvu</td>\n",
       "      <td>Morogoro</td>\n",
       "      <td>2</td>\n",
       "      <td>150</td>\n",
       "      <td>True</td>\n",
       "      <td>VWC</td>\n",
       "      <td>True</td>\n",
       "      <td>2002</td>\n",
       "      <td>nira/tanira</td>\n",
       "      <td>vwc</td>\n",
       "      <td>salty</td>\n",
       "      <td>enough</td>\n",
       "      <td>shallow well</td>\n",
       "      <td>hand pump</td>\n",
       "      <td>functional</td>\n",
       "    </tr>\n",
       "  </tbody>\n",
       "</table>\n",
       "<p>48288 rows × 19 columns</p>\n",
       "</div>"
      ],
      "text/plain": [
       "       amount_tsh               funder  gps_height     installer  \\\n",
       "0          6000.0                Roman        1390         Roman   \n",
       "2            25.0         Lottery Club         686  World vision   \n",
       "3             0.0               Unicef         263        UNICEF   \n",
       "5            20.0  Mkinga Distric Coun           0           DWE   \n",
       "6             0.0                 Dwsp           0          DWSP   \n",
       "...           ...                  ...         ...           ...   \n",
       "59394       500.0           World Bank         351      ML appro   \n",
       "59395        10.0      Germany Republi        1210           CES   \n",
       "59396      4700.0          Cefa-njombe        1212          Cefa   \n",
       "59398         0.0                Malec           0          Musa   \n",
       "59399         0.0           World Bank         191         World   \n",
       "\n",
       "                         basin       region  district_code  population  \\\n",
       "0                   Lake Nyasa       Iringa              5         109   \n",
       "2                      Pangani      Manyara              4         250   \n",
       "3      Ruvuma / Southern Coast       Mtwara             63          58   \n",
       "5                      Pangani        Tanga              8           1   \n",
       "6                     Internal    Shinyanga              3           0   \n",
       "...                        ...          ...            ...         ...   \n",
       "59394              Wami / Ruvu     Morogoro              6          89   \n",
       "59395                  Pangani  Kilimanjaro              5         125   \n",
       "59396                   Rufiji       Iringa              4          56   \n",
       "59398                   Rufiji       Dodoma              4           0   \n",
       "59399              Wami / Ruvu     Morogoro              2         150   \n",
       "\n",
       "      public_meeting scheme_management permit  construction_year  \\\n",
       "0               True               VWC  False               1999   \n",
       "2               True               VWC   True               2009   \n",
       "3               True               VWC   True               1986   \n",
       "5               True               VWC   True               2009   \n",
       "6               True               VWC   True                  0   \n",
       "...              ...               ...    ...                ...   \n",
       "59394           True               VWC   True               2007   \n",
       "59395           True       Water Board   True               1999   \n",
       "59396           True               VWC   True               1996   \n",
       "59398           True               VWC   True                  0   \n",
       "59399           True               VWC   True               2002   \n",
       "\n",
       "      extraction_type   management water_quality      quantity        source  \\\n",
       "0             gravity          vwc          soft        enough        spring   \n",
       "2             gravity          vwc          soft        enough           dam   \n",
       "3         submersible          vwc          soft           dry   machine dbh   \n",
       "5         submersible          vwc         salty        enough         other   \n",
       "6              swn 80          vwc          soft        enough   machine dbh   \n",
       "...               ...          ...           ...           ...           ...   \n",
       "59394     submersible          vwc          soft        enough   machine dbh   \n",
       "59395         gravity  water board          soft        enough        spring   \n",
       "59396         gravity          vwc          soft        enough         river   \n",
       "59398     nira/tanira          vwc          soft  insufficient  shallow well   \n",
       "59399     nira/tanira          vwc         salty        enough  shallow well   \n",
       "\n",
       "                   waterpoint_type    status_group  \n",
       "0               communal standpipe      functional  \n",
       "2      communal standpipe multiple      functional  \n",
       "3      communal standpipe multiple  non functional  \n",
       "5      communal standpipe multiple      functional  \n",
       "6                        hand pump  non functional  \n",
       "...                            ...             ...  \n",
       "59394           communal standpipe  non functional  \n",
       "59395           communal standpipe      functional  \n",
       "59396           communal standpipe      functional  \n",
       "59398                    hand pump      functional  \n",
       "59399                    hand pump      functional  \n",
       "\n",
       "[48288 rows x 19 columns]"
      ]
     },
     "execution_count": 36,
     "metadata": {},
     "output_type": "execute_result"
    }
   ],
   "source": [
    "merged_data[merged_data['status_group']!= 'unctional needs repair']"
   ]
  },
  {
   "cell_type": "code",
   "execution_count": 37,
   "metadata": {},
   "outputs": [
    {
     "data": {
      "text/html": [
       "<div>\n",
       "<style scoped>\n",
       "    .dataframe tbody tr th:only-of-type {\n",
       "        vertical-align: middle;\n",
       "    }\n",
       "\n",
       "    .dataframe tbody tr th {\n",
       "        vertical-align: top;\n",
       "    }\n",
       "\n",
       "    .dataframe thead th {\n",
       "        text-align: right;\n",
       "    }\n",
       "</style>\n",
       "<table border=\"1\" class=\"dataframe\">\n",
       "  <thead>\n",
       "    <tr style=\"text-align: right;\">\n",
       "      <th></th>\n",
       "      <th>amount_tsh</th>\n",
       "      <th>gps_height</th>\n",
       "      <th>district_code</th>\n",
       "      <th>population</th>\n",
       "      <th>construction_year</th>\n",
       "      <th>funder_A/co Germany</th>\n",
       "      <th>funder_Aar</th>\n",
       "      <th>funder_Abas Ka</th>\n",
       "      <th>funder_Abasia</th>\n",
       "      <th>funder_Abc-ihushi Development Cent</th>\n",
       "      <th>...</th>\n",
       "      <th>source_shallow well</th>\n",
       "      <th>source_spring</th>\n",
       "      <th>source_unknown</th>\n",
       "      <th>waterpoint_type_communal standpipe</th>\n",
       "      <th>waterpoint_type_communal standpipe multiple</th>\n",
       "      <th>waterpoint_type_dam</th>\n",
       "      <th>waterpoint_type_hand pump</th>\n",
       "      <th>waterpoint_type_improved spring</th>\n",
       "      <th>waterpoint_type_other</th>\n",
       "      <th>status_group_non functional</th>\n",
       "    </tr>\n",
       "  </thead>\n",
       "  <tbody>\n",
       "    <tr>\n",
       "      <th>0</th>\n",
       "      <td>6000.0</td>\n",
       "      <td>1390</td>\n",
       "      <td>5</td>\n",
       "      <td>109</td>\n",
       "      <td>1999</td>\n",
       "      <td>0</td>\n",
       "      <td>0</td>\n",
       "      <td>0</td>\n",
       "      <td>0</td>\n",
       "      <td>0</td>\n",
       "      <td>...</td>\n",
       "      <td>0</td>\n",
       "      <td>1</td>\n",
       "      <td>0</td>\n",
       "      <td>1</td>\n",
       "      <td>0</td>\n",
       "      <td>0</td>\n",
       "      <td>0</td>\n",
       "      <td>0</td>\n",
       "      <td>0</td>\n",
       "      <td>0</td>\n",
       "    </tr>\n",
       "    <tr>\n",
       "      <th>2</th>\n",
       "      <td>25.0</td>\n",
       "      <td>686</td>\n",
       "      <td>4</td>\n",
       "      <td>250</td>\n",
       "      <td>2009</td>\n",
       "      <td>0</td>\n",
       "      <td>0</td>\n",
       "      <td>0</td>\n",
       "      <td>0</td>\n",
       "      <td>0</td>\n",
       "      <td>...</td>\n",
       "      <td>0</td>\n",
       "      <td>0</td>\n",
       "      <td>0</td>\n",
       "      <td>0</td>\n",
       "      <td>1</td>\n",
       "      <td>0</td>\n",
       "      <td>0</td>\n",
       "      <td>0</td>\n",
       "      <td>0</td>\n",
       "      <td>0</td>\n",
       "    </tr>\n",
       "    <tr>\n",
       "      <th>3</th>\n",
       "      <td>0.0</td>\n",
       "      <td>263</td>\n",
       "      <td>63</td>\n",
       "      <td>58</td>\n",
       "      <td>1986</td>\n",
       "      <td>0</td>\n",
       "      <td>0</td>\n",
       "      <td>0</td>\n",
       "      <td>0</td>\n",
       "      <td>0</td>\n",
       "      <td>...</td>\n",
       "      <td>0</td>\n",
       "      <td>0</td>\n",
       "      <td>0</td>\n",
       "      <td>0</td>\n",
       "      <td>1</td>\n",
       "      <td>0</td>\n",
       "      <td>0</td>\n",
       "      <td>0</td>\n",
       "      <td>0</td>\n",
       "      <td>1</td>\n",
       "    </tr>\n",
       "    <tr>\n",
       "      <th>5</th>\n",
       "      <td>20.0</td>\n",
       "      <td>0</td>\n",
       "      <td>8</td>\n",
       "      <td>1</td>\n",
       "      <td>2009</td>\n",
       "      <td>0</td>\n",
       "      <td>0</td>\n",
       "      <td>0</td>\n",
       "      <td>0</td>\n",
       "      <td>0</td>\n",
       "      <td>...</td>\n",
       "      <td>0</td>\n",
       "      <td>0</td>\n",
       "      <td>0</td>\n",
       "      <td>0</td>\n",
       "      <td>1</td>\n",
       "      <td>0</td>\n",
       "      <td>0</td>\n",
       "      <td>0</td>\n",
       "      <td>0</td>\n",
       "      <td>0</td>\n",
       "    </tr>\n",
       "    <tr>\n",
       "      <th>6</th>\n",
       "      <td>0.0</td>\n",
       "      <td>0</td>\n",
       "      <td>3</td>\n",
       "      <td>0</td>\n",
       "      <td>0</td>\n",
       "      <td>0</td>\n",
       "      <td>0</td>\n",
       "      <td>0</td>\n",
       "      <td>0</td>\n",
       "      <td>0</td>\n",
       "      <td>...</td>\n",
       "      <td>0</td>\n",
       "      <td>0</td>\n",
       "      <td>0</td>\n",
       "      <td>0</td>\n",
       "      <td>0</td>\n",
       "      <td>0</td>\n",
       "      <td>1</td>\n",
       "      <td>0</td>\n",
       "      <td>0</td>\n",
       "      <td>1</td>\n",
       "    </tr>\n",
       "  </tbody>\n",
       "</table>\n",
       "<p>5 rows × 3382 columns</p>\n",
       "</div>"
      ],
      "text/plain": [
       "   amount_tsh  gps_height  district_code  population  construction_year  \\\n",
       "0      6000.0        1390              5         109               1999   \n",
       "2        25.0         686              4         250               2009   \n",
       "3         0.0         263             63          58               1986   \n",
       "5        20.0           0              8           1               2009   \n",
       "6         0.0           0              3           0                  0   \n",
       "\n",
       "   funder_A/co Germany  funder_Aar  funder_Abas Ka  funder_Abasia  \\\n",
       "0                    0           0               0              0   \n",
       "2                    0           0               0              0   \n",
       "3                    0           0               0              0   \n",
       "5                    0           0               0              0   \n",
       "6                    0           0               0              0   \n",
       "\n",
       "   funder_Abc-ihushi Development Cent  ...  source_shallow well  \\\n",
       "0                                   0  ...                    0   \n",
       "2                                   0  ...                    0   \n",
       "3                                   0  ...                    0   \n",
       "5                                   0  ...                    0   \n",
       "6                                   0  ...                    0   \n",
       "\n",
       "   source_spring  source_unknown  waterpoint_type_communal standpipe  \\\n",
       "0              1               0                                   1   \n",
       "2              0               0                                   0   \n",
       "3              0               0                                   0   \n",
       "5              0               0                                   0   \n",
       "6              0               0                                   0   \n",
       "\n",
       "   waterpoint_type_communal standpipe multiple  waterpoint_type_dam  \\\n",
       "0                                            0                    0   \n",
       "2                                            1                    0   \n",
       "3                                            1                    0   \n",
       "5                                            1                    0   \n",
       "6                                            0                    0   \n",
       "\n",
       "   waterpoint_type_hand pump  waterpoint_type_improved spring  \\\n",
       "0                          0                                0   \n",
       "2                          0                                0   \n",
       "3                          0                                0   \n",
       "5                          0                                0   \n",
       "6                          1                                0   \n",
       "\n",
       "   waterpoint_type_other  status_group_non functional  \n",
       "0                      0                            0  \n",
       "2                      0                            0  \n",
       "3                      0                            1  \n",
       "5                      0                            0  \n",
       "6                      0                            1  \n",
       "\n",
       "[5 rows x 3382 columns]"
      ]
     },
     "execution_count": 37,
     "metadata": {},
     "output_type": "execute_result"
    }
   ],
   "source": [
    "merged_data=merged_data[merged_data['status_group']!= 'functional needs repair']\n",
    "\n",
    "dummy_data=pd.get_dummies(merged_data, drop_first=True)\n",
    "\n",
    "dummy_data.head()"
   ]
  },
  {
   "cell_type": "code",
   "execution_count": 38,
   "metadata": {},
   "outputs": [],
   "source": [
    "dummy_data.rename(columns={'status_group_non functional':'status_group'},inplace=True)\n",
    "dummy_data=dummy_data.sample(n=20000, replace=True, random_state=1)"
   ]
  },
  {
   "cell_type": "code",
   "execution_count": 39,
   "metadata": {},
   "outputs": [],
   "source": [
    "le_x=dummy_data.drop('status_group',axis=1)\n",
    "le_y=dummy_data['status_group']\n",
    "\n",
    "\n",
    "X_train, X_test, y_train, y_test = train_test_split(le_x, le_y, test_size=0.25, random_state=50)"
   ]
  },
  {
   "cell_type": "code",
   "execution_count": 40,
   "metadata": {},
   "outputs": [
    {
     "data": {
      "text/html": [
       "<div>\n",
       "<style scoped>\n",
       "    .dataframe tbody tr th:only-of-type {\n",
       "        vertical-align: middle;\n",
       "    }\n",
       "\n",
       "    .dataframe tbody tr th {\n",
       "        vertical-align: top;\n",
       "    }\n",
       "\n",
       "    .dataframe thead th {\n",
       "        text-align: right;\n",
       "    }\n",
       "</style>\n",
       "<table border=\"1\" class=\"dataframe\">\n",
       "  <thead>\n",
       "    <tr style=\"text-align: right;\">\n",
       "      <th></th>\n",
       "      <th>amount_tsh</th>\n",
       "      <th>gps_height</th>\n",
       "      <th>district_code</th>\n",
       "      <th>population</th>\n",
       "      <th>construction_year</th>\n",
       "      <th>funder_A/co Germany</th>\n",
       "      <th>funder_Aar</th>\n",
       "      <th>funder_Abas Ka</th>\n",
       "      <th>funder_Abasia</th>\n",
       "      <th>funder_Abc-ihushi Development Cent</th>\n",
       "      <th>...</th>\n",
       "      <th>source_river</th>\n",
       "      <th>source_shallow well</th>\n",
       "      <th>source_spring</th>\n",
       "      <th>source_unknown</th>\n",
       "      <th>waterpoint_type_communal standpipe</th>\n",
       "      <th>waterpoint_type_communal standpipe multiple</th>\n",
       "      <th>waterpoint_type_dam</th>\n",
       "      <th>waterpoint_type_hand pump</th>\n",
       "      <th>waterpoint_type_improved spring</th>\n",
       "      <th>waterpoint_type_other</th>\n",
       "    </tr>\n",
       "  </thead>\n",
       "  <tbody>\n",
       "    <tr>\n",
       "      <th>0</th>\n",
       "      <td>-0.106621</td>\n",
       "      <td>0.710687</td>\n",
       "      <td>-0.186445</td>\n",
       "      <td>-0.371936</td>\n",
       "      <td>0.661758</td>\n",
       "      <td>-0.014144</td>\n",
       "      <td>-0.0231</td>\n",
       "      <td>0.0</td>\n",
       "      <td>-0.028296</td>\n",
       "      <td>0.0</td>\n",
       "      <td>...</td>\n",
       "      <td>-0.450323</td>\n",
       "      <td>-0.594187</td>\n",
       "      <td>1.499152</td>\n",
       "      <td>-0.020004</td>\n",
       "      <td>-0.981897</td>\n",
       "      <td>-0.351083</td>\n",
       "      <td>-0.008165</td>\n",
       "      <td>-0.632588</td>\n",
       "      <td>-0.107385</td>\n",
       "      <td>2.987842</td>\n",
       "    </tr>\n",
       "    <tr>\n",
       "      <th>1</th>\n",
       "      <td>-0.027519</td>\n",
       "      <td>0.941542</td>\n",
       "      <td>-0.083626</td>\n",
       "      <td>-0.234871</td>\n",
       "      <td>0.684298</td>\n",
       "      <td>-0.014144</td>\n",
       "      <td>-0.0231</td>\n",
       "      <td>0.0</td>\n",
       "      <td>-0.028296</td>\n",
       "      <td>0.0</td>\n",
       "      <td>...</td>\n",
       "      <td>-0.450323</td>\n",
       "      <td>-0.594187</td>\n",
       "      <td>1.499152</td>\n",
       "      <td>-0.020004</td>\n",
       "      <td>1.018437</td>\n",
       "      <td>-0.351083</td>\n",
       "      <td>-0.008165</td>\n",
       "      <td>-0.632588</td>\n",
       "      <td>-0.107385</td>\n",
       "      <td>-0.334690</td>\n",
       "    </tr>\n",
       "    <tr>\n",
       "      <th>2</th>\n",
       "      <td>-0.106621</td>\n",
       "      <td>0.770171</td>\n",
       "      <td>-0.186445</td>\n",
       "      <td>0.754564</td>\n",
       "      <td>0.700398</td>\n",
       "      <td>-0.014144</td>\n",
       "      <td>-0.0231</td>\n",
       "      <td>0.0</td>\n",
       "      <td>-0.028296</td>\n",
       "      <td>0.0</td>\n",
       "      <td>...</td>\n",
       "      <td>-0.450323</td>\n",
       "      <td>-0.594187</td>\n",
       "      <td>-0.667044</td>\n",
       "      <td>-0.020004</td>\n",
       "      <td>1.018437</td>\n",
       "      <td>-0.351083</td>\n",
       "      <td>-0.008165</td>\n",
       "      <td>-0.632588</td>\n",
       "      <td>-0.107385</td>\n",
       "      <td>-0.334690</td>\n",
       "    </tr>\n",
       "    <tr>\n",
       "      <th>3</th>\n",
       "      <td>-0.106621</td>\n",
       "      <td>1.974018</td>\n",
       "      <td>-0.186445</td>\n",
       "      <td>-0.309828</td>\n",
       "      <td>0.698251</td>\n",
       "      <td>-0.014144</td>\n",
       "      <td>-0.0231</td>\n",
       "      <td>0.0</td>\n",
       "      <td>-0.028296</td>\n",
       "      <td>0.0</td>\n",
       "      <td>...</td>\n",
       "      <td>-0.450323</td>\n",
       "      <td>-0.594187</td>\n",
       "      <td>1.499152</td>\n",
       "      <td>-0.020004</td>\n",
       "      <td>1.018437</td>\n",
       "      <td>-0.351083</td>\n",
       "      <td>-0.008165</td>\n",
       "      <td>-0.632588</td>\n",
       "      <td>-0.107385</td>\n",
       "      <td>-0.334690</td>\n",
       "    </tr>\n",
       "    <tr>\n",
       "      <th>4</th>\n",
       "      <td>-0.106621</td>\n",
       "      <td>1.750244</td>\n",
       "      <td>-0.392084</td>\n",
       "      <td>-0.052832</td>\n",
       "      <td>0.686444</td>\n",
       "      <td>-0.014144</td>\n",
       "      <td>-0.0231</td>\n",
       "      <td>0.0</td>\n",
       "      <td>-0.028296</td>\n",
       "      <td>0.0</td>\n",
       "      <td>...</td>\n",
       "      <td>-0.450323</td>\n",
       "      <td>-0.594187</td>\n",
       "      <td>1.499152</td>\n",
       "      <td>-0.020004</td>\n",
       "      <td>1.018437</td>\n",
       "      <td>-0.351083</td>\n",
       "      <td>-0.008165</td>\n",
       "      <td>-0.632588</td>\n",
       "      <td>-0.107385</td>\n",
       "      <td>-0.334690</td>\n",
       "    </tr>\n",
       "  </tbody>\n",
       "</table>\n",
       "<p>5 rows × 3381 columns</p>\n",
       "</div>"
      ],
      "text/plain": [
       "   amount_tsh  gps_height  district_code  population  construction_year  \\\n",
       "0   -0.106621    0.710687      -0.186445   -0.371936           0.661758   \n",
       "1   -0.027519    0.941542      -0.083626   -0.234871           0.684298   \n",
       "2   -0.106621    0.770171      -0.186445    0.754564           0.700398   \n",
       "3   -0.106621    1.974018      -0.186445   -0.309828           0.698251   \n",
       "4   -0.106621    1.750244      -0.392084   -0.052832           0.686444   \n",
       "\n",
       "   funder_A/co Germany  funder_Aar  funder_Abas Ka  funder_Abasia  \\\n",
       "0            -0.014144     -0.0231             0.0      -0.028296   \n",
       "1            -0.014144     -0.0231             0.0      -0.028296   \n",
       "2            -0.014144     -0.0231             0.0      -0.028296   \n",
       "3            -0.014144     -0.0231             0.0      -0.028296   \n",
       "4            -0.014144     -0.0231             0.0      -0.028296   \n",
       "\n",
       "   funder_Abc-ihushi Development Cent  ...  source_river  source_shallow well  \\\n",
       "0                                 0.0  ...     -0.450323            -0.594187   \n",
       "1                                 0.0  ...     -0.450323            -0.594187   \n",
       "2                                 0.0  ...     -0.450323            -0.594187   \n",
       "3                                 0.0  ...     -0.450323            -0.594187   \n",
       "4                                 0.0  ...     -0.450323            -0.594187   \n",
       "\n",
       "   source_spring  source_unknown  waterpoint_type_communal standpipe  \\\n",
       "0       1.499152       -0.020004                           -0.981897   \n",
       "1       1.499152       -0.020004                            1.018437   \n",
       "2      -0.667044       -0.020004                            1.018437   \n",
       "3       1.499152       -0.020004                            1.018437   \n",
       "4       1.499152       -0.020004                            1.018437   \n",
       "\n",
       "   waterpoint_type_communal standpipe multiple  waterpoint_type_dam  \\\n",
       "0                                    -0.351083            -0.008165   \n",
       "1                                    -0.351083            -0.008165   \n",
       "2                                    -0.351083            -0.008165   \n",
       "3                                    -0.351083            -0.008165   \n",
       "4                                    -0.351083            -0.008165   \n",
       "\n",
       "   waterpoint_type_hand pump  waterpoint_type_improved spring  \\\n",
       "0                  -0.632588                        -0.107385   \n",
       "1                  -0.632588                        -0.107385   \n",
       "2                  -0.632588                        -0.107385   \n",
       "3                  -0.632588                        -0.107385   \n",
       "4                  -0.632588                        -0.107385   \n",
       "\n",
       "   waterpoint_type_other  \n",
       "0               2.987842  \n",
       "1              -0.334690  \n",
       "2              -0.334690  \n",
       "3              -0.334690  \n",
       "4              -0.334690  \n",
       "\n",
       "[5 rows x 3381 columns]"
      ]
     },
     "execution_count": 40,
     "metadata": {},
     "output_type": "execute_result"
    }
   ],
   "source": [
    "scale=StandardScaler()\n",
    "scaled_data_train = scale.fit_transform(X_train)\n",
    "scaled_data_test = scale.transform(X_test)\n",
    "\n",
    "scaled_data_train = pd.DataFrame(scaled_data_train, columns=le_x.columns)\n",
    "scaled_data_train.head()"
   ]
  },
  {
   "cell_type": "code",
   "execution_count": 41,
   "metadata": {},
   "outputs": [],
   "source": [
    "knn_base=KNeighborsClassifier()\n",
    "tree_base=tree.DecisionTreeClassifier()\n",
    "random_base=RandomForestClassifier(n_estimators=500, max_depth= 50)\n",
    "log_base=LogisticRegression(fit_intercept=False, C=1e12, solver='liblinear')\n",
    "xboost_base=XGBClassifier()\n",
    "listofmodels=[knn_base,tree_base,log_base]"
   ]
  },
  {
   "cell_type": "code",
   "execution_count": 43,
   "metadata": {},
   "outputs": [
    {
     "ename": "KeyboardInterrupt",
     "evalue": "",
     "output_type": "error",
     "traceback": [
      "\u001b[1;31m---------------------------------------------------------------------------\u001b[0m",
      "\u001b[1;31mKeyboardInterrupt\u001b[0m                         Traceback (most recent call last)",
      "\u001b[1;32m<ipython-input-43-889f1b2fba3d>\u001b[0m in \u001b[0;36m<module>\u001b[1;34m\u001b[0m\n\u001b[1;32m----> 1\u001b[1;33m \u001b[0mrun_model\u001b[0m\u001b[1;33m(\u001b[0m\u001b[0mlog_base\u001b[0m\u001b[1;33m,\u001b[0m\u001b[0mscaled_data_train\u001b[0m\u001b[1;33m,\u001b[0m \u001b[0my_train\u001b[0m\u001b[1;33m,\u001b[0m \u001b[0mscaled_data_test\u001b[0m\u001b[1;33m,\u001b[0m \u001b[0my_test\u001b[0m\u001b[1;33m)\u001b[0m\u001b[1;33m\u001b[0m\u001b[1;33m\u001b[0m\u001b[0m\n\u001b[0m",
      "\u001b[1;32m~\\Documents\\dataclass\\Tanzanian-water-point-classification\\functionForModels.ipynb\u001b[0m in \u001b[0;36mrun_model\u001b[1;34m(model, X_train, y_train, X_test, y_test)\u001b[0m\n\u001b[0;32m     26\u001b[0m     \u001b[1;34m\"\\n\"\u001b[0m\u001b[1;33m,\u001b[0m\u001b[1;33m\u001b[0m\u001b[1;33m\u001b[0m\u001b[0m\n\u001b[0;32m     27\u001b[0m     \u001b[1;34m\"\\n\"\u001b[0m\u001b[1;33m,\u001b[0m\u001b[1;33m\u001b[0m\u001b[1;33m\u001b[0m\u001b[0m\n\u001b[1;32m---> 28\u001b[1;33m     \u001b[1;34m\"from sklearn.neighbors import KNeighborsClassifier\\n\"\u001b[0m\u001b[1;33m,\u001b[0m\u001b[1;33m\u001b[0m\u001b[1;33m\u001b[0m\u001b[0m\n\u001b[0m\u001b[0;32m     29\u001b[0m     \u001b[1;34m\"from sklearn import tree\\n\"\u001b[0m\u001b[1;33m,\u001b[0m\u001b[1;33m\u001b[0m\u001b[1;33m\u001b[0m\u001b[0m\n\u001b[0;32m     30\u001b[0m     \u001b[1;34m\"from sklearn.linear_model import LogisticRegression\\n\"\u001b[0m\u001b[1;33m,\u001b[0m\u001b[1;33m\u001b[0m\u001b[1;33m\u001b[0m\u001b[0m\n",
      "\u001b[1;32m~\\anaconda3\\envs\\learn-env\\lib\\site-packages\\sklearn\\linear_model\\_logistic.py\u001b[0m in \u001b[0;36mfit\u001b[1;34m(self, X, y, sample_weight)\u001b[0m\n\u001b[0;32m   1354\u001b[0m                               \u001b[1;34m\" 'solver' is set to 'liblinear'. Got 'n_jobs'\"\u001b[0m\u001b[1;33m\u001b[0m\u001b[1;33m\u001b[0m\u001b[0m\n\u001b[0;32m   1355\u001b[0m                               \" = {}.\".format(effective_n_jobs(self.n_jobs)))\n\u001b[1;32m-> 1356\u001b[1;33m             self.coef_, self.intercept_, n_iter_ = _fit_liblinear(\n\u001b[0m\u001b[0;32m   1357\u001b[0m                 \u001b[0mX\u001b[0m\u001b[1;33m,\u001b[0m \u001b[0my\u001b[0m\u001b[1;33m,\u001b[0m \u001b[0mself\u001b[0m\u001b[1;33m.\u001b[0m\u001b[0mC\u001b[0m\u001b[1;33m,\u001b[0m \u001b[0mself\u001b[0m\u001b[1;33m.\u001b[0m\u001b[0mfit_intercept\u001b[0m\u001b[1;33m,\u001b[0m \u001b[0mself\u001b[0m\u001b[1;33m.\u001b[0m\u001b[0mintercept_scaling\u001b[0m\u001b[1;33m,\u001b[0m\u001b[1;33m\u001b[0m\u001b[1;33m\u001b[0m\u001b[0m\n\u001b[0;32m   1358\u001b[0m                 \u001b[0mself\u001b[0m\u001b[1;33m.\u001b[0m\u001b[0mclass_weight\u001b[0m\u001b[1;33m,\u001b[0m \u001b[0mself\u001b[0m\u001b[1;33m.\u001b[0m\u001b[0mpenalty\u001b[0m\u001b[1;33m,\u001b[0m \u001b[0mself\u001b[0m\u001b[1;33m.\u001b[0m\u001b[0mdual\u001b[0m\u001b[1;33m,\u001b[0m \u001b[0mself\u001b[0m\u001b[1;33m.\u001b[0m\u001b[0mverbose\u001b[0m\u001b[1;33m,\u001b[0m\u001b[1;33m\u001b[0m\u001b[1;33m\u001b[0m\u001b[0m\n",
      "\u001b[1;32m~\\anaconda3\\envs\\learn-env\\lib\\site-packages\\sklearn\\svm\\_base.py\u001b[0m in \u001b[0;36m_fit_liblinear\u001b[1;34m(X, y, C, fit_intercept, intercept_scaling, class_weight, penalty, dual, verbose, max_iter, tol, random_state, multi_class, loss, epsilon, sample_weight)\u001b[0m\n\u001b[0;32m    964\u001b[0m \u001b[1;33m\u001b[0m\u001b[0m\n\u001b[0;32m    965\u001b[0m     \u001b[0msolver_type\u001b[0m \u001b[1;33m=\u001b[0m \u001b[0m_get_liblinear_solver_type\u001b[0m\u001b[1;33m(\u001b[0m\u001b[0mmulti_class\u001b[0m\u001b[1;33m,\u001b[0m \u001b[0mpenalty\u001b[0m\u001b[1;33m,\u001b[0m \u001b[0mloss\u001b[0m\u001b[1;33m,\u001b[0m \u001b[0mdual\u001b[0m\u001b[1;33m)\u001b[0m\u001b[1;33m\u001b[0m\u001b[1;33m\u001b[0m\u001b[0m\n\u001b[1;32m--> 966\u001b[1;33m     raw_coef_, n_iter_ = liblinear.train_wrap(\n\u001b[0m\u001b[0;32m    967\u001b[0m         \u001b[0mX\u001b[0m\u001b[1;33m,\u001b[0m \u001b[0my_ind\u001b[0m\u001b[1;33m,\u001b[0m \u001b[0msp\u001b[0m\u001b[1;33m.\u001b[0m\u001b[0misspmatrix\u001b[0m\u001b[1;33m(\u001b[0m\u001b[0mX\u001b[0m\u001b[1;33m)\u001b[0m\u001b[1;33m,\u001b[0m \u001b[0msolver_type\u001b[0m\u001b[1;33m,\u001b[0m \u001b[0mtol\u001b[0m\u001b[1;33m,\u001b[0m \u001b[0mbias\u001b[0m\u001b[1;33m,\u001b[0m \u001b[0mC\u001b[0m\u001b[1;33m,\u001b[0m\u001b[1;33m\u001b[0m\u001b[1;33m\u001b[0m\u001b[0m\n\u001b[0;32m    968\u001b[0m         \u001b[0mclass_weight_\u001b[0m\u001b[1;33m,\u001b[0m \u001b[0mmax_iter\u001b[0m\u001b[1;33m,\u001b[0m \u001b[0mrnd\u001b[0m\u001b[1;33m.\u001b[0m\u001b[0mrandint\u001b[0m\u001b[1;33m(\u001b[0m\u001b[0mnp\u001b[0m\u001b[1;33m.\u001b[0m\u001b[0miinfo\u001b[0m\u001b[1;33m(\u001b[0m\u001b[1;34m'i'\u001b[0m\u001b[1;33m)\u001b[0m\u001b[1;33m.\u001b[0m\u001b[0mmax\u001b[0m\u001b[1;33m)\u001b[0m\u001b[1;33m,\u001b[0m\u001b[1;33m\u001b[0m\u001b[1;33m\u001b[0m\u001b[0m\n",
      "\u001b[1;31mKeyboardInterrupt\u001b[0m: "
     ]
    }
   ],
   "source": [
    "run_model(log_base,scaled_data_train, y_train, scaled_data_test, y_test)"
   ]
  },
  {
   "cell_type": "code",
   "execution_count": null,
   "metadata": {},
   "outputs": [],
   "source": [
    "run_model(tree_base,scaled_data_train, y_train, scaled_data_test, y_test)"
   ]
  },
  {
   "cell_type": "code",
   "execution_count": null,
   "metadata": {},
   "outputs": [],
   "source": [
    "run_model(knn_base,scaled_data_train, y_train, scaled_data_test, y_test)"
   ]
  },
  {
   "cell_type": "code",
   "execution_count": null,
   "metadata": {},
   "outputs": [],
   "source": [
    "run_model(random_base,scaled_data_train, y_train, scaled_data_test, y_test)"
   ]
  },
  {
   "cell_type": "code",
   "execution_count": null,
   "metadata": {},
   "outputs": [],
   "source": [
    "fig,hs = plt.subplots(figsize=(10,10))\n",
    "sns.heatmap(scaled_data_train.corr()>.75, center=0);\n"
   ]
  },
  {
   "cell_type": "code",
   "execution_count": null,
   "metadata": {},
   "outputs": [],
   "source": [
    "import re\n",
    "regex = re.compile(r\"\\[|\\]|<\", re.IGNORECASE)\n",
    "scaled_data_train.columns = [regex.sub(\"_\", col) if any(x in str(col) for x in set(('[', ']', '<'))) else col for col in scaled_data_train.columns.values]\n",
    "\n",
    "\n",
    "\n",
    "run_model(xboost_base,scaled_data_train.values, y_train, scaled_data_test, y_test)"
   ]
  },
  {
   "cell_type": "markdown",
   "metadata": {},
   "source": [
    "pickle your data to make thing s easier, to rerun, I will not save storage files in this cleaned version"
   ]
  },
  {
   "cell_type": "markdown",
   "metadata": {},
   "source": [
    "two of the best models seems to be random forest and basic decision tree modeling but i may also do xgboost to see if we get a good result from it"
   ]
  },
  {
   "cell_type": "markdown",
   "metadata": {},
   "source": [
    "### grid search"
   ]
  },
  {
   "cell_type": "code",
   "execution_count": 1,
   "metadata": {},
   "outputs": [],
   "source": [
    "dict_random= {\n",
    "    \"n_estimators\":[100,500,90,80,600],\n",
    "    \"criterion\":['gini','entropy'],\n",
    "#     \"max_depth\":[40,50,60,70,80],\n",
    "    'min_samples_split':[4,5,6,10],\n",
    "#     \"min_samples_leaf\":[2,3,4,5,6]\n",
    "}\n",
    "\n",
    "\n",
    "xgboostoh={\n",
    "    'n_estimators':[100,200,300],\n",
    "    \"gamma\":[0,1,2,3,4],\n",
    "    \"base_score \":[.3,.5,.6],\n",
    "#     \"importance_type\":['weight','gain','cover']\n",
    "#     \"max_depth\":[1,2,4,6,7],\n",
    "#     \"grow_policy\":[\"depthwise\",'lossguide']\n",
    "    \n",
    "}"
   ]
  },
  {
   "cell_type": "code",
   "execution_count": null,
   "metadata": {},
   "outputs": [],
   "source": [
    "\n",
    "boost_grid = GridSearchCV(xboost_base, xgboostoh, cv=4, return_train_score=True)\n",
    "\n",
    "boost_grid.fit(scaled_data_train.values, y_train)"
   ]
  },
  {
   "cell_type": "code",
   "execution_count": null,
   "metadata": {},
   "outputs": [],
   "source": [
    "boost_grid.best_score_"
   ]
  },
  {
   "cell_type": "code",
   "execution_count": null,
   "metadata": {},
   "outputs": [],
   "source": [
    "boost_grid.best_estimator_"
   ]
  },
  {
   "cell_type": "code",
   "execution_count": null,
   "metadata": {},
   "outputs": [],
   "source": [
    "boost_grid.best_params_"
   ]
  },
  {
   "cell_type": "code",
   "execution_count": null,
   "metadata": {},
   "outputs": [],
   "source": [
    "boost_grid.score(scaled_data_test, y_test)\n"
   ]
  },
  {
   "cell_type": "code",
   "execution_count": null,
   "metadata": {},
   "outputs": [],
   "source": [
    "random_grid = GridSearchCV(RandomForestClassifier(), dict_random, cv=2, return_train_score=True)\n",
    "random_grid.fit(scaled_data_train, y_train)"
   ]
  },
  {
   "cell_type": "code",
   "execution_count": null,
   "metadata": {},
   "outputs": [],
   "source": [
    "newboost=XGBClassifier(base_score=0.5, booster='gbtree', colsample_bylevel=1,\n",
    "              colsample_bynode=1, colsample_bytree=1, eta=0.3, gamma=0,\n",
    "              gpu_id=-1, importance_type='gain', interaction_constraints='',\n",
    "              learning_rate=0.300000012, max_delta_step=0, max_depth=6,\n",
    "              min_child_weight=1, monotone_constraints='()',\n",
    "              n_estimators=100, n_jobs=16, num_parallel_tree=1, random_state=0,\n",
    "              reg_alpha=0, reg_lambda=1, scale_pos_weight=1, subsample=1,\n",
    "              tree_method='exact', validate_parameters=1, verbosity=None)"
   ]
  },
  {
   "cell_type": "code",
   "execution_count": null,
   "metadata": {},
   "outputs": [],
   "source": [
    "run_model(newboost,scaled_data_train.values, y_train, scaled_data_test, y_test)"
   ]
  },
  {
   "cell_type": "code",
   "execution_count": null,
   "metadata": {},
   "outputs": [],
   "source": [
    " random_grid.best_score_"
   ]
  },
  {
   "cell_type": "code",
   "execution_count": null,
   "metadata": {},
   "outputs": [],
   "source": [
    "random_grid.best_estimator_"
   ]
  },
  {
   "cell_type": "code",
   "execution_count": null,
   "metadata": {},
   "outputs": [],
   "source": [
    "random_grid.feature_importances_"
   ]
  },
  {
   "cell_type": "code",
   "execution_count": 42,
   "metadata": {},
   "outputs": [
    {
     "name": "stdout",
     "output_type": "stream",
     "text": [
      "              precision    recall  f1-score   support\n",
      "\n",
      "           0       0.95      0.98      0.96      9006\n",
      "           1       0.97      0.92      0.94      5994\n",
      "\n",
      "    accuracy                           0.96     15000\n",
      "   macro avg       0.96      0.95      0.95     15000\n",
      "weighted avg       0.96      0.96      0.96     15000\n",
      "\n",
      "              precision    recall  f1-score   support\n",
      "\n",
      "           0       0.85      0.92      0.89      2981\n",
      "           1       0.87      0.76      0.81      2019\n",
      "\n",
      "    accuracy                           0.86      5000\n",
      "   macro avg       0.86      0.84      0.85      5000\n",
      "weighted avg       0.86      0.86      0.86      5000\n",
      "\n",
      "\n",
      "AUC is :0.84\n"
     ]
    },
    {
     "data": {
      "image/png": "[encoded data removed]",
      "text/plain": [
       "<Figure size 1296x432 with 4 Axes>"
      ]
     },
     "metadata": {
      "needs_background": "light"
     },
     "output_type": "display_data"
    },
    {
     "data": {
      "image/png": "[encoded data removed]",
      "text/plain": [
       "<Figure size 432x288 with 1 Axes>"
      ]
     },
     "metadata": {
      "needs_background": "light"
     },
     "output_type": "display_data"
    },
    {
     "data": {
      "text/plain": [
       "RandomForestClassifier(criterion='entropy', min_samples_split=5,\n",
       "                       n_estimators=500)"
      ]
     },
     "execution_count": 42,
     "metadata": {},
     "output_type": "execute_result"
    }
   ],
   "source": [
    "last_random=RandomForestClassifier(criterion='entropy', n_estimators=500, min_samples_split=5)\n",
    "\n",
    "run_model(last_random,scaled_data_train, y_train, scaled_data_test, y_test)"
   ]
  },
  {
   "cell_type": "code",
   "execution_count": 44,
   "metadata": {},
   "outputs": [
    {
     "data": {
      "text/plain": [
       "array([0.03815611, 0.08018568, 0.03001523, ..., 0.01233824, 0.00206522,\n",
       "       0.03179218])"
      ]
     },
     "execution_count": 44,
     "metadata": {},
     "output_type": "execute_result"
    }
   ],
   "source": [
    "last_random.feature_importances_"
   ]
  },
  {
   "cell_type": "code",
   "execution_count": 47,
   "metadata": {
    "scrolled": true
   },
   "outputs": [
    {
     "data": {
      "text/plain": [
       "3381"
      ]
     },
     "execution_count": 47,
     "metadata": {},
     "output_type": "execute_result"
    }
   ],
   "source": [
    "len(last_random.feature_importances_)"
   ]
  },
  {
   "cell_type": "code",
   "execution_count": 48,
   "metadata": {},
   "outputs": [
    {
     "ename": "AttributeError",
     "evalue": "'RandomForestClassifier' object has no attribute 'feature_names'",
     "output_type": "error",
     "traceback": [
      "\u001b[1;31m---------------------------------------------------------------------------\u001b[0m",
      "\u001b[1;31mAttributeError\u001b[0m                            Traceback (most recent call last)",
      "\u001b[1;32m<ipython-input-48-40580476ebe6>\u001b[0m in \u001b[0;36m<module>\u001b[1;34m\u001b[0m\n\u001b[1;32m----> 1\u001b[1;33m \u001b[0mlast_random\u001b[0m\u001b[1;33m.\u001b[0m\u001b[0mfeature_names\u001b[0m\u001b[1;33m\u001b[0m\u001b[1;33m\u001b[0m\u001b[0m\n\u001b[0m",
      "\u001b[1;31mAttributeError\u001b[0m: 'RandomForestClassifier' object has no attribute 'feature_names'"
     ]
    }
   ],
   "source": [
    "last_random.feature_names"
   ]
  },
  {
   "cell_type": "code",
   "execution_count": 53,
   "metadata": {},
   "outputs": [],
   "source": [
    "wat=last_random.feature_importances_.argsort()"
   ]
  },
  {
   "cell_type": "code",
   "execution_count": 68,
   "metadata": {},
   "outputs": [
    {
     "data": {
      "text/plain": [
       "<BarContainer object of 20 artists>"
      ]
     },
     "execution_count": 68,
     "metadata": {},
     "output_type": "execute_result"
    },
    {
     "data": {
      "image/png": "[encoded data removed]",
      "text/plain": [
       "<Figure size 432x288 with 1 Axes>"
      ]
     },
     "metadata": {
      "needs_background": "light"
     },
     "output_type": "display_data"
    }
   ],
   "source": [
    "plt.barh(scaled_data_train.columns[wat][-20:], last_random.feature_importances_[wat][-20:])"
   ]
  },
  {
   "cell_type": "code",
   "execution_count": null,
   "metadata": {},
   "outputs": [],
   "source": []
  }
 ],
 "metadata": {
  "kernelspec": {
   "display_name": "Python 3",
   "language": "python",
   "name": "python3"
  },
  "language_info": {
   "codemirror_mode": {
    "name": "ipython",
    "version": 3
   },
   "file_extension": ".py",
   "mimetype": "text/x-python",
   "name": "python",
   "nbconvert_exporter": "python",
   "pygments_lexer": "ipython3",
   "version": "3.8.5"
  },
  "toc": {
   "base_numbering": 1,
   "nav_menu": {},
   "number_sections": true,
   "sideBar": true,
   "skip_h1_title": false,
   "title_cell": "Table of Contents",
   "title_sidebar": "Contents",
   "toc_cell": true,
   "toc_position": {
    "height": "calc(100% - 180px)",
    "left": "10px",
    "top": "150px",
    "width": "288px"
   },
   "toc_section_display": true,
   "toc_window_display": true
  }
 },
 "nbformat": 4,
 "nbformat_minor": 4
}
